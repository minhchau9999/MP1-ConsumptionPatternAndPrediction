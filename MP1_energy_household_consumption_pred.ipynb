{
 "cells": [
  {
   "cell_type": "markdown",
   "metadata": {},
   "source": [
    "# Household Electric Power Consumption Analysis\n",
    "\n",
    "This notebook demonstrates how to **load**, **clean**, **explore**, and **visualize** a sample dataset from Kaggle.\n",
    "\n",
    "## Dataset: Individual Household Electric Power Consumption\n",
    "\n",
    "- **Source:** [Kaggle Dataset Link](https://www.kaggle.com/datasets/uciml/electric-power-consumption-data-set)\n",
    "- **Description:** Measurements of electric power consumption in one household with a one-minute sampling rate over almost 4 years (Dec 2006 - Nov 2010).\n",
    "- **Variables:**\n",
    "    - `date`: Date (dd/mm/yyyy)\n",
    "    - `time`: Time (hh:mm:ss)\n",
    "    - `global_active_power`: Global minute-averaged active power (kW)\n",
    "    - `global_reactive_power`: Global minute-averaged reactive power (kW)\n",
    "    - `voltage`: Minute-averaged voltage (V)\n",
    "    - `global_intensity`: Global minute-averaged current intensity (A)\n",
    "    - `sub_metering_1`: Energy sub-metering No. 1 (kitchen)\n",
    "    - `sub_metering_2`: Energy sub-metering No. 2 (laundry room)\n",
    "    - `sub_metering_3`: Energy sub-metering No. 3 (water heater, AC)\n",
    "- **Missing Values:** About 1.25% of rows have missing values, represented by empty fields.\n"
   ]
  },
  {
   "cell_type": "markdown",
   "metadata": {},
   "source": [
    "#### 1. Load and Clean data"
   ]
  },
  {
   "cell_type": "code",
   "execution_count": 25,
   "metadata": {},
   "outputs": [],
   "source": [
    "# pip install matplotlib\n",
    "# pip install seaborn\n",
    "# pip install pandas"
   ]
  },
  {
   "cell_type": "code",
   "execution_count": 26,
   "metadata": {},
   "outputs": [],
   "source": [
    "\n",
    "import pandas as pd\n",
    "import seaborn as sns\n",
    "import matplotlib.pyplot as plt\n"
   ]
  },
  {
   "cell_type": "code",
   "execution_count": 27,
   "metadata": {},
   "outputs": [
    {
     "name": "stderr",
     "output_type": "stream",
     "text": [
      "C:\\Users\\Thinkbook\\AppData\\Local\\Temp\\ipykernel_30384\\2755678190.py:3: DtypeWarning: Columns (2,3,4,5,6,7) have mixed types. Specify dtype option on import or set low_memory=False.\n",
      "  df = pd.read_csv('./household_power_consumption.txt', delimiter=';')\n"
     ]
    }
   ],
   "source": [
    "#load csv\n",
    "\n",
    "df = pd.read_csv('./household_power_consumption.txt', delimiter=';')"
   ]
  },
  {
   "cell_type": "code",
   "execution_count": 28,
   "metadata": {},
   "outputs": [
    {
     "data": {
      "text/html": [
       "<div>\n",
       "<style scoped>\n",
       "    .dataframe tbody tr th:only-of-type {\n",
       "        vertical-align: middle;\n",
       "    }\n",
       "\n",
       "    .dataframe tbody tr th {\n",
       "        vertical-align: top;\n",
       "    }\n",
       "\n",
       "    .dataframe thead th {\n",
       "        text-align: right;\n",
       "    }\n",
       "</style>\n",
       "<table border=\"1\" class=\"dataframe\">\n",
       "  <thead>\n",
       "    <tr style=\"text-align: right;\">\n",
       "      <th></th>\n",
       "      <th>Date</th>\n",
       "      <th>Time</th>\n",
       "      <th>Global_active_power</th>\n",
       "      <th>Global_reactive_power</th>\n",
       "      <th>Voltage</th>\n",
       "      <th>Global_intensity</th>\n",
       "      <th>Sub_metering_1</th>\n",
       "      <th>Sub_metering_2</th>\n",
       "      <th>Sub_metering_3</th>\n",
       "    </tr>\n",
       "  </thead>\n",
       "  <tbody>\n",
       "    <tr>\n",
       "      <th>0</th>\n",
       "      <td>16/12/2006</td>\n",
       "      <td>17:24:00</td>\n",
       "      <td>4.216</td>\n",
       "      <td>0.418</td>\n",
       "      <td>234.840</td>\n",
       "      <td>18.400</td>\n",
       "      <td>0.000</td>\n",
       "      <td>1.000</td>\n",
       "      <td>17.0</td>\n",
       "    </tr>\n",
       "    <tr>\n",
       "      <th>1</th>\n",
       "      <td>16/12/2006</td>\n",
       "      <td>17:25:00</td>\n",
       "      <td>5.360</td>\n",
       "      <td>0.436</td>\n",
       "      <td>233.630</td>\n",
       "      <td>23.000</td>\n",
       "      <td>0.000</td>\n",
       "      <td>1.000</td>\n",
       "      <td>16.0</td>\n",
       "    </tr>\n",
       "    <tr>\n",
       "      <th>2</th>\n",
       "      <td>16/12/2006</td>\n",
       "      <td>17:26:00</td>\n",
       "      <td>5.374</td>\n",
       "      <td>0.498</td>\n",
       "      <td>233.290</td>\n",
       "      <td>23.000</td>\n",
       "      <td>0.000</td>\n",
       "      <td>2.000</td>\n",
       "      <td>17.0</td>\n",
       "    </tr>\n",
       "    <tr>\n",
       "      <th>3</th>\n",
       "      <td>16/12/2006</td>\n",
       "      <td>17:27:00</td>\n",
       "      <td>5.388</td>\n",
       "      <td>0.502</td>\n",
       "      <td>233.740</td>\n",
       "      <td>23.000</td>\n",
       "      <td>0.000</td>\n",
       "      <td>1.000</td>\n",
       "      <td>17.0</td>\n",
       "    </tr>\n",
       "    <tr>\n",
       "      <th>4</th>\n",
       "      <td>16/12/2006</td>\n",
       "      <td>17:28:00</td>\n",
       "      <td>3.666</td>\n",
       "      <td>0.528</td>\n",
       "      <td>235.680</td>\n",
       "      <td>15.800</td>\n",
       "      <td>0.000</td>\n",
       "      <td>1.000</td>\n",
       "      <td>17.0</td>\n",
       "    </tr>\n",
       "  </tbody>\n",
       "</table>\n",
       "</div>"
      ],
      "text/plain": [
       "         Date      Time Global_active_power Global_reactive_power  Voltage  \\\n",
       "0  16/12/2006  17:24:00               4.216                 0.418  234.840   \n",
       "1  16/12/2006  17:25:00               5.360                 0.436  233.630   \n",
       "2  16/12/2006  17:26:00               5.374                 0.498  233.290   \n",
       "3  16/12/2006  17:27:00               5.388                 0.502  233.740   \n",
       "4  16/12/2006  17:28:00               3.666                 0.528  235.680   \n",
       "\n",
       "  Global_intensity Sub_metering_1 Sub_metering_2  Sub_metering_3  \n",
       "0           18.400          0.000          1.000            17.0  \n",
       "1           23.000          0.000          1.000            16.0  \n",
       "2           23.000          0.000          2.000            17.0  \n",
       "3           23.000          0.000          1.000            17.0  \n",
       "4           15.800          0.000          1.000            17.0  "
      ]
     },
     "execution_count": 28,
     "metadata": {},
     "output_type": "execute_result"
    }
   ],
   "source": [
    "df.head()"
   ]
  },
  {
   "cell_type": "code",
   "execution_count": 29,
   "metadata": {},
   "outputs": [
    {
     "name": "stdout",
     "output_type": "stream",
     "text": [
      "<class 'pandas.core.frame.DataFrame'>\n",
      "RangeIndex: 2075259 entries, 0 to 2075258\n",
      "Data columns (total 9 columns):\n",
      " #   Column                 Dtype  \n",
      "---  ------                 -----  \n",
      " 0   Date                   object \n",
      " 1   Time                   object \n",
      " 2   Global_active_power    object \n",
      " 3   Global_reactive_power  object \n",
      " 4   Voltage                object \n",
      " 5   Global_intensity       object \n",
      " 6   Sub_metering_1         object \n",
      " 7   Sub_metering_2         object \n",
      " 8   Sub_metering_3         float64\n",
      "dtypes: float64(1), object(8)\n",
      "memory usage: 142.5+ MB\n"
     ]
    }
   ],
   "source": [
    "# describe\n",
    "df.describe()\n",
    "df.info()"
   ]
  },
  {
   "cell_type": "code",
   "execution_count": 30,
   "metadata": {},
   "outputs": [],
   "source": [
    "# concat and convert datetime and numeric columns\n",
    "df['DateTime'] = df.Date + ' ' + df.Time\n"
   ]
  },
  {
   "cell_type": "code",
   "execution_count": 31,
   "metadata": {},
   "outputs": [
    {
     "name": "stderr",
     "output_type": "stream",
     "text": [
      "C:\\Users\\Thinkbook\\AppData\\Local\\Temp\\ipykernel_30384\\2138640164.py:1: UserWarning: Parsing dates in %d/%m/%Y %H:%M:%S format when dayfirst=False (the default) was specified. Pass `dayfirst=True` or specify a format to silence this warning.\n",
      "  df['DateTime'] = pd.to_datetime(df['DateTime'])\n"
     ]
    }
   ],
   "source": [
    "df['DateTime'] = pd.to_datetime(df['DateTime'])"
   ]
  },
  {
   "cell_type": "code",
   "execution_count": 32,
   "metadata": {},
   "outputs": [],
   "source": [
    "# convert to numeric, assign NaN if not valid\n",
    "df['Global_active_power'] = pd.to_numeric(df['Global_active_power'],errors='coerce' )"
   ]
  },
  {
   "cell_type": "code",
   "execution_count": 33,
   "metadata": {},
   "outputs": [
    {
     "data": {
      "text/plain": [
       "Index(['Date', 'Time', 'Global_active_power', 'Global_reactive_power',\n",
       "       'Voltage', 'Global_intensity', 'Sub_metering_1', 'Sub_metering_2',\n",
       "       'Sub_metering_3', 'DateTime'],\n",
       "      dtype='object')"
      ]
     },
     "execution_count": 33,
     "metadata": {},
     "output_type": "execute_result"
    }
   ],
   "source": [
    "df.columns"
   ]
  },
  {
   "cell_type": "code",
   "execution_count": 34,
   "metadata": {},
   "outputs": [],
   "source": [
    "tarCols = ['Global_active_power', 'Global_reactive_power',\n",
    "       'Voltage', 'Global_intensity', 'Sub_metering_1', 'Sub_metering_2',\n",
    "       'Sub_metering_3']\n",
    "for col in tarCols:\n",
    "    df[col] = pd.to_numeric(df[col],errors='coerce' )"
   ]
  },
  {
   "cell_type": "code",
   "execution_count": 35,
   "metadata": {},
   "outputs": [],
   "source": [
    "# drop na values\n",
    "df = df.dropna()"
   ]
  },
  {
   "cell_type": "code",
   "execution_count": 36,
   "metadata": {},
   "outputs": [
    {
     "data": {
      "text/plain": [
       "0"
      ]
     },
     "execution_count": 36,
     "metadata": {},
     "output_type": "execute_result"
    }
   ],
   "source": [
    "df.isna().sum().sum()\n",
    "# should be 0 now"
   ]
  },
  {
   "cell_type": "code",
   "execution_count": 90,
   "metadata": {},
   "outputs": [
    {
     "data": {
      "text/html": [
       "<div>\n",
       "<style scoped>\n",
       "    .dataframe tbody tr th:only-of-type {\n",
       "        vertical-align: middle;\n",
       "    }\n",
       "\n",
       "    .dataframe tbody tr th {\n",
       "        vertical-align: top;\n",
       "    }\n",
       "\n",
       "    .dataframe thead th {\n",
       "        text-align: right;\n",
       "    }\n",
       "</style>\n",
       "<table border=\"1\" class=\"dataframe\">\n",
       "  <thead>\n",
       "    <tr style=\"text-align: right;\">\n",
       "      <th></th>\n",
       "      <th>Global_active_power</th>\n",
       "      <th>Global_reactive_power</th>\n",
       "      <th>Voltage</th>\n",
       "      <th>Global_intensity</th>\n",
       "      <th>Sub_metering_1</th>\n",
       "      <th>Sub_metering_2</th>\n",
       "      <th>Sub_metering_3</th>\n",
       "      <th>DateTime</th>\n",
       "      <th>hour</th>\n",
       "    </tr>\n",
       "  </thead>\n",
       "  <tbody>\n",
       "    <tr>\n",
       "      <th>count</th>\n",
       "      <td>2.049280e+06</td>\n",
       "      <td>2.049280e+06</td>\n",
       "      <td>2.049280e+06</td>\n",
       "      <td>2.049280e+06</td>\n",
       "      <td>2.049280e+06</td>\n",
       "      <td>2.049280e+06</td>\n",
       "      <td>2.049280e+06</td>\n",
       "      <td>2049280</td>\n",
       "      <td>2.049280e+06</td>\n",
       "    </tr>\n",
       "    <tr>\n",
       "      <th>mean</th>\n",
       "      <td>1.091615e+00</td>\n",
       "      <td>1.237145e-01</td>\n",
       "      <td>2.408399e+02</td>\n",
       "      <td>4.627759e+00</td>\n",
       "      <td>1.121923e+00</td>\n",
       "      <td>1.298520e+00</td>\n",
       "      <td>6.458447e+00</td>\n",
       "      <td>2008-12-02 00:59:44.397740544</td>\n",
       "      <td>1.150391e+01</td>\n",
       "    </tr>\n",
       "    <tr>\n",
       "      <th>min</th>\n",
       "      <td>7.600000e-02</td>\n",
       "      <td>0.000000e+00</td>\n",
       "      <td>2.232000e+02</td>\n",
       "      <td>2.000000e-01</td>\n",
       "      <td>0.000000e+00</td>\n",
       "      <td>0.000000e+00</td>\n",
       "      <td>0.000000e+00</td>\n",
       "      <td>2006-12-16 17:24:00</td>\n",
       "      <td>0.000000e+00</td>\n",
       "    </tr>\n",
       "    <tr>\n",
       "      <th>25%</th>\n",
       "      <td>3.080000e-01</td>\n",
       "      <td>4.800000e-02</td>\n",
       "      <td>2.389900e+02</td>\n",
       "      <td>1.400000e+00</td>\n",
       "      <td>0.000000e+00</td>\n",
       "      <td>0.000000e+00</td>\n",
       "      <td>0.000000e+00</td>\n",
       "      <td>2007-12-10 05:37:45</td>\n",
       "      <td>5.000000e+00</td>\n",
       "    </tr>\n",
       "    <tr>\n",
       "      <th>50%</th>\n",
       "      <td>6.020000e-01</td>\n",
       "      <td>1.000000e-01</td>\n",
       "      <td>2.410100e+02</td>\n",
       "      <td>2.600000e+00</td>\n",
       "      <td>0.000000e+00</td>\n",
       "      <td>0.000000e+00</td>\n",
       "      <td>1.000000e+00</td>\n",
       "      <td>2008-11-30 01:22:30</td>\n",
       "      <td>1.200000e+01</td>\n",
       "    </tr>\n",
       "    <tr>\n",
       "      <th>75%</th>\n",
       "      <td>1.528000e+00</td>\n",
       "      <td>1.940000e-01</td>\n",
       "      <td>2.428900e+02</td>\n",
       "      <td>6.400000e+00</td>\n",
       "      <td>0.000000e+00</td>\n",
       "      <td>1.000000e+00</td>\n",
       "      <td>1.700000e+01</td>\n",
       "      <td>2009-11-23 20:31:15</td>\n",
       "      <td>1.800000e+01</td>\n",
       "    </tr>\n",
       "    <tr>\n",
       "      <th>max</th>\n",
       "      <td>1.112200e+01</td>\n",
       "      <td>1.390000e+00</td>\n",
       "      <td>2.541500e+02</td>\n",
       "      <td>4.840000e+01</td>\n",
       "      <td>8.800000e+01</td>\n",
       "      <td>8.000000e+01</td>\n",
       "      <td>3.100000e+01</td>\n",
       "      <td>2010-11-26 21:02:00</td>\n",
       "      <td>2.300000e+01</td>\n",
       "    </tr>\n",
       "    <tr>\n",
       "      <th>std</th>\n",
       "      <td>1.057294e+00</td>\n",
       "      <td>1.127220e-01</td>\n",
       "      <td>3.239987e+00</td>\n",
       "      <td>4.444396e+00</td>\n",
       "      <td>6.153031e+00</td>\n",
       "      <td>5.822026e+00</td>\n",
       "      <td>8.437154e+00</td>\n",
       "      <td>NaN</td>\n",
       "      <td>6.925189e+00</td>\n",
       "    </tr>\n",
       "  </tbody>\n",
       "</table>\n",
       "</div>"
      ],
      "text/plain": [
       "       Global_active_power  Global_reactive_power       Voltage  \\\n",
       "count         2.049280e+06           2.049280e+06  2.049280e+06   \n",
       "mean          1.091615e+00           1.237145e-01  2.408399e+02   \n",
       "min           7.600000e-02           0.000000e+00  2.232000e+02   \n",
       "25%           3.080000e-01           4.800000e-02  2.389900e+02   \n",
       "50%           6.020000e-01           1.000000e-01  2.410100e+02   \n",
       "75%           1.528000e+00           1.940000e-01  2.428900e+02   \n",
       "max           1.112200e+01           1.390000e+00  2.541500e+02   \n",
       "std           1.057294e+00           1.127220e-01  3.239987e+00   \n",
       "\n",
       "       Global_intensity  Sub_metering_1  Sub_metering_2  Sub_metering_3  \\\n",
       "count      2.049280e+06    2.049280e+06    2.049280e+06    2.049280e+06   \n",
       "mean       4.627759e+00    1.121923e+00    1.298520e+00    6.458447e+00   \n",
       "min        2.000000e-01    0.000000e+00    0.000000e+00    0.000000e+00   \n",
       "25%        1.400000e+00    0.000000e+00    0.000000e+00    0.000000e+00   \n",
       "50%        2.600000e+00    0.000000e+00    0.000000e+00    1.000000e+00   \n",
       "75%        6.400000e+00    0.000000e+00    1.000000e+00    1.700000e+01   \n",
       "max        4.840000e+01    8.800000e+01    8.000000e+01    3.100000e+01   \n",
       "std        4.444396e+00    6.153031e+00    5.822026e+00    8.437154e+00   \n",
       "\n",
       "                            DateTime          hour  \n",
       "count                        2049280  2.049280e+06  \n",
       "mean   2008-12-02 00:59:44.397740544  1.150391e+01  \n",
       "min              2006-12-16 17:24:00  0.000000e+00  \n",
       "25%              2007-12-10 05:37:45  5.000000e+00  \n",
       "50%              2008-11-30 01:22:30  1.200000e+01  \n",
       "75%              2009-11-23 20:31:15  1.800000e+01  \n",
       "max              2010-11-26 21:02:00  2.300000e+01  \n",
       "std                              NaN  6.925189e+00  "
      ]
     },
     "execution_count": 90,
     "metadata": {},
     "output_type": "execute_result"
    }
   ],
   "source": [
    "df.describe()"
   ]
  },
  {
   "cell_type": "code",
   "execution_count": 91,
   "metadata": {},
   "outputs": [],
   "source": [
    "# drop other columns\n",
    "df.drop(columns=['Global_reactive_power', 'Voltage','Global_intensity','Sub_metering_1','Sub_metering_2','Sub_metering_3'], inplace=True)"
   ]
  },
  {
   "cell_type": "markdown",
   "metadata": {},
   "source": [
    "#### 2. Feature Engineering and Aggregation"
   ]
  },
  {
   "cell_type": "code",
   "execution_count": null,
   "metadata": {},
   "outputs": [],
   "source": []
  },
  {
   "cell_type": "code",
   "execution_count": 92,
   "metadata": {},
   "outputs": [],
   "source": [
    "df['hour'] = df['DateTime'].dt.hour\n",
    "df['dayofweek'] = df['DateTime'].dt.day_name()\n",
    "df['date'] = df['DateTime'].dt.date"
   ]
  },
  {
   "cell_type": "code",
   "execution_count": 93,
   "metadata": {},
   "outputs": [
    {
     "data": {
      "text/html": [
       "<div>\n",
       "<style scoped>\n",
       "    .dataframe tbody tr th:only-of-type {\n",
       "        vertical-align: middle;\n",
       "    }\n",
       "\n",
       "    .dataframe tbody tr th {\n",
       "        vertical-align: top;\n",
       "    }\n",
       "\n",
       "    .dataframe thead th {\n",
       "        text-align: right;\n",
       "    }\n",
       "</style>\n",
       "<table border=\"1\" class=\"dataframe\">\n",
       "  <thead>\n",
       "    <tr style=\"text-align: right;\">\n",
       "      <th></th>\n",
       "      <th>Date</th>\n",
       "      <th>Time</th>\n",
       "      <th>Global_active_power</th>\n",
       "      <th>DateTime</th>\n",
       "      <th>hour</th>\n",
       "      <th>dayofweek</th>\n",
       "      <th>date</th>\n",
       "    </tr>\n",
       "  </thead>\n",
       "  <tbody>\n",
       "    <tr>\n",
       "      <th>0</th>\n",
       "      <td>16/12/2006</td>\n",
       "      <td>17:24:00</td>\n",
       "      <td>4.216</td>\n",
       "      <td>2006-12-16 17:24:00</td>\n",
       "      <td>17</td>\n",
       "      <td>Saturday</td>\n",
       "      <td>2006-12-16</td>\n",
       "    </tr>\n",
       "    <tr>\n",
       "      <th>1</th>\n",
       "      <td>16/12/2006</td>\n",
       "      <td>17:25:00</td>\n",
       "      <td>5.360</td>\n",
       "      <td>2006-12-16 17:25:00</td>\n",
       "      <td>17</td>\n",
       "      <td>Saturday</td>\n",
       "      <td>2006-12-16</td>\n",
       "    </tr>\n",
       "    <tr>\n",
       "      <th>2</th>\n",
       "      <td>16/12/2006</td>\n",
       "      <td>17:26:00</td>\n",
       "      <td>5.374</td>\n",
       "      <td>2006-12-16 17:26:00</td>\n",
       "      <td>17</td>\n",
       "      <td>Saturday</td>\n",
       "      <td>2006-12-16</td>\n",
       "    </tr>\n",
       "    <tr>\n",
       "      <th>3</th>\n",
       "      <td>16/12/2006</td>\n",
       "      <td>17:27:00</td>\n",
       "      <td>5.388</td>\n",
       "      <td>2006-12-16 17:27:00</td>\n",
       "      <td>17</td>\n",
       "      <td>Saturday</td>\n",
       "      <td>2006-12-16</td>\n",
       "    </tr>\n",
       "    <tr>\n",
       "      <th>4</th>\n",
       "      <td>16/12/2006</td>\n",
       "      <td>17:28:00</td>\n",
       "      <td>3.666</td>\n",
       "      <td>2006-12-16 17:28:00</td>\n",
       "      <td>17</td>\n",
       "      <td>Saturday</td>\n",
       "      <td>2006-12-16</td>\n",
       "    </tr>\n",
       "  </tbody>\n",
       "</table>\n",
       "</div>"
      ],
      "text/plain": [
       "         Date      Time  Global_active_power            DateTime  hour  \\\n",
       "0  16/12/2006  17:24:00                4.216 2006-12-16 17:24:00    17   \n",
       "1  16/12/2006  17:25:00                5.360 2006-12-16 17:25:00    17   \n",
       "2  16/12/2006  17:26:00                5.374 2006-12-16 17:26:00    17   \n",
       "3  16/12/2006  17:27:00                5.388 2006-12-16 17:27:00    17   \n",
       "4  16/12/2006  17:28:00                3.666 2006-12-16 17:28:00    17   \n",
       "\n",
       "  dayofweek        date  \n",
       "0  Saturday  2006-12-16  \n",
       "1  Saturday  2006-12-16  \n",
       "2  Saturday  2006-12-16  \n",
       "3  Saturday  2006-12-16  \n",
       "4  Saturday  2006-12-16  "
      ]
     },
     "execution_count": 93,
     "metadata": {},
     "output_type": "execute_result"
    }
   ],
   "source": [
    "df.head()"
   ]
  },
  {
   "cell_type": "code",
   "execution_count": 94,
   "metadata": {},
   "outputs": [],
   "source": [
    "# aggregation\n",
    "daily = df.groupby('date')['Global_active_power'].sum().reset_index()\n",
    "hourly = df.groupby(['date','hour'])['Global_active_power'].sum().reset_index()"
   ]
  },
  {
   "cell_type": "code",
   "execution_count": 95,
   "metadata": {},
   "outputs": [
    {
     "name": "stdout",
     "output_type": "stream",
     "text": [
      "            date  Global_active_power\n",
      "0     2006-12-16             1209.176\n",
      "1     2006-12-17             3390.460\n",
      "2     2006-12-18             2203.826\n",
      "3     2006-12-19             1666.194\n",
      "4     2006-12-20             2225.748\n",
      "...          ...                  ...\n",
      "1428  2010-11-22             2041.536\n",
      "1429  2010-11-23             1577.536\n",
      "1430  2010-11-24             1796.248\n",
      "1431  2010-11-25             1431.164\n",
      "1432  2010-11-26             1488.104\n",
      "\n",
      "[1433 rows x 2 columns]\n"
     ]
    }
   ],
   "source": [
    "print(daily)"
   ]
  },
  {
   "cell_type": "code",
   "execution_count": 96,
   "metadata": {},
   "outputs": [
    {
     "name": "stdout",
     "output_type": "stream",
     "text": [
      "             date  hour  Global_active_power\n",
      "0      2006-12-16    17              152.024\n",
      "1      2006-12-16    18              217.932\n",
      "2      2006-12-16    19              204.014\n",
      "3      2006-12-16    20              196.114\n",
      "4      2006-12-16    21              183.388\n",
      "...           ...   ...                  ...\n",
      "34163  2010-11-26    17              103.554\n",
      "34164  2010-11-26    18               94.408\n",
      "34165  2010-11-26    19               99.560\n",
      "34166  2010-11-26    20               69.822\n",
      "34167  2010-11-26    21                2.804\n",
      "\n",
      "[34168 rows x 3 columns]\n"
     ]
    }
   ],
   "source": [
    "print(hourly)"
   ]
  },
  {
   "cell_type": "markdown",
   "metadata": {},
   "source": [
    "##### 3. Visualization"
   ]
  },
  {
   "cell_type": "code",
   "execution_count": 97,
   "metadata": {},
   "outputs": [
    {
     "data": {
      "image/png": "[encoded data removed]",
      "text/plain": [
       "<Figure size 1500x500 with 1 Axes>"
      ]
     },
     "metadata": {},
     "output_type": "display_data"
    }
   ],
   "source": [
    "# daily usage line plot\n",
    "# 1. Daily usage line plot\n",
    "# Daily usage line plot\n",
    "plt.figure(figsize=(15, 5))\n",
    "sns.lineplot(data=daily, x='date', y='Global_active_power')\n",
    "plt.title('Daily Global Active Power Consumption')\n",
    "plt.xlabel('Date')\n",
    "plt.ylabel('Total Active Power (kW)')\n",
    "plt.xticks(rotation=45)\n",
    "plt.tight_layout()\n",
    "plt.show()\n"
   ]
  },
  {
   "cell_type": "code",
   "execution_count": 98,
   "metadata": {},
   "outputs": [
    {
     "data": {
      "text/plain": [
       "<Axes: xlabel='hour', ylabel='Global_active_power'>"
      ]
     },
     "execution_count": 98,
     "metadata": {},
     "output_type": "execute_result"
    },
    {
     "data": {
      "image/png": "[encoded data removed]",
      "text/plain": [
       "<Figure size 640x480 with 1 Axes>"
      ]
     },
     "metadata": {},
     "output_type": "display_data"
    }
   ],
   "source": [
    "\n",
    "# 2. Avg consumption by hour\n",
    "sns.barplot(data=hourly, x='hour', y='Global_active_power')\n"
   ]
  },
  {
   "cell_type": "markdown",
   "metadata": {},
   "source": [
    "###### Comment: the pattern is quite common where energy is not used much during the late night time, peaks at the evening and norning where people at home or preparing to go to work.  "
   ]
  },
  {
   "cell_type": "code",
   "execution_count": 99,
   "metadata": {},
   "outputs": [
    {
     "data": {
      "image/png": "[encoded data removed]",
      "text/plain": [
       "<Figure size 1200x600 with 2 Axes>"
      ]
     },
     "metadata": {},
     "output_type": "display_data"
    }
   ],
   "source": [
    "# Heatmap: day-of-week vs hour\n",
    "days_order = ['Monday', 'Tuesday', 'Wednesday', 'Thursday', 'Friday', 'Saturday', 'Sunday']\n",
    "pivot = df.pivot_table(index='dayofweek', columns='hour',\n",
    "                       values='Global_active_power', aggfunc='mean')\n",
    "pivot = pivot.reindex(days_order)\n",
    "\n",
    "plt.figure(figsize=(12, 6))\n",
    "sns.heatmap(pivot, cmap='YlOrRd')\n",
    "plt.title('Average Hourly Power Consumption by Day of Week')\n",
    "plt.xlabel('Hour of Day')\n",
    "plt.ylabel('Day of Week')\n",
    "plt.tight_layout()\n",
    "plt.show()"
   ]
  },
  {
   "cell_type": "markdown",
   "metadata": {},
   "source": [
    "##### comment: this reveal additional insight where the intensity on Weekdays and Weekends looks different. For household uses, weekdays patern looks similar across the week. However, weekends is different, people stay later on Sat nights, until mid-night, using elk at day time is also a lot higher as they are not going to work."
   ]
  },
  {
   "cell_type": "markdown",
   "metadata": {},
   "source": [
    "##### 4 Feature Engineering - Create a unified DS"
   ]
  },
  {
   "cell_type": "markdown",
   "metadata": {},
   "source": [
    "##### 4. Forecasting with Facebook Prophet"
   ]
  },
  {
   "cell_type": "code",
   "execution_count": 102,
   "metadata": {},
   "outputs": [],
   "source": [
    "# let's split train test by past and future 1 week\n",
    "# Train/test split\n",
    "test_hours = 168\n"
   ]
  },
  {
   "cell_type": "code",
   "execution_count": 105,
   "metadata": {},
   "outputs": [
    {
     "name": "stdout",
     "output_type": "stream",
     "text": [
      "<class 'pandas.core.frame.DataFrame'>\n",
      "Index: 2049280 entries, 0 to 2075258\n",
      "Data columns (total 7 columns):\n",
      " #   Column               Dtype         \n",
      "---  ------               -----         \n",
      " 0   Date                 object        \n",
      " 1   Time                 object        \n",
      " 2   Global_active_power  float64       \n",
      " 3   DateTime             datetime64[ns]\n",
      " 4   hour                 int32         \n",
      " 5   dayofweek            object        \n",
      " 6   date                 object        \n",
      "dtypes: datetime64[ns](1), float64(1), int32(1), object(4)\n",
      "memory usage: 117.3+ MB\n"
     ]
    }
   ],
   "source": [
    "df.info()"
   ]
  },
  {
   "cell_type": "code",
   "execution_count": 106,
   "metadata": {},
   "outputs": [],
   "source": [
    "df.set_index('DateTime', inplace=True)\n",
    "df.sort_index(inplace=True)"
   ]
  },
  {
   "cell_type": "code",
   "execution_count": null,
   "metadata": {},
   "outputs": [],
   "source": [
    "#pip install prophet\n",
    "from prophet import Prophet\n",
    "# 2. Resample to hourly\n",
    "df_hourly = df['Global_active_power'].resample('h').sum()\n",
    "df_train = df_hourly[:-test_hours]\n",
    "df_test = df_hourly[-test_hours:]\n",
    "\n",
    "# Prepare data for Prophet\n",
    "df_prophet_train = df_train.reset_index().rename(columns={'DateTime': 'ds', 'Global_active_power': 'y'})\n",
    "\n"
   ]
  },
  {
   "cell_type": "code",
   "execution_count": 108,
   "metadata": {},
   "outputs": [
    {
     "name": "stdout",
     "output_type": "stream",
     "text": [
      "Train period: 2006-12-16 17:00:00 to 2010-11-19 21:00:00\n",
      "Test period: 2010-11-19 22:00:00 to 2010-11-26 21:00:00\n"
     ]
    }
   ],
   "source": [
    "print(\"Train period:\", df_train.index.min(), \"to\", df_train.index.max())\n",
    "print(\"Test period:\", df_test.index.min(), \"to\", df_test.index.max())"
   ]
  },
  {
   "cell_type": "code",
   "execution_count": 109,
   "metadata": {},
   "outputs": [
    {
     "data": {
      "text/html": [
       "<div>\n",
       "<style scoped>\n",
       "    .dataframe tbody tr th:only-of-type {\n",
       "        vertical-align: middle;\n",
       "    }\n",
       "\n",
       "    .dataframe tbody tr th {\n",
       "        vertical-align: top;\n",
       "    }\n",
       "\n",
       "    .dataframe thead th {\n",
       "        text-align: right;\n",
       "    }\n",
       "</style>\n",
       "<table border=\"1\" class=\"dataframe\">\n",
       "  <thead>\n",
       "    <tr style=\"text-align: right;\">\n",
       "      <th></th>\n",
       "      <th>ds</th>\n",
       "      <th>y</th>\n",
       "    </tr>\n",
       "  </thead>\n",
       "  <tbody>\n",
       "    <tr>\n",
       "      <th>0</th>\n",
       "      <td>2006-12-16 17:00:00</td>\n",
       "      <td>152.024</td>\n",
       "    </tr>\n",
       "    <tr>\n",
       "      <th>1</th>\n",
       "      <td>2006-12-16 18:00:00</td>\n",
       "      <td>217.932</td>\n",
       "    </tr>\n",
       "    <tr>\n",
       "      <th>2</th>\n",
       "      <td>2006-12-16 19:00:00</td>\n",
       "      <td>204.014</td>\n",
       "    </tr>\n",
       "    <tr>\n",
       "      <th>3</th>\n",
       "      <td>2006-12-16 20:00:00</td>\n",
       "      <td>196.114</td>\n",
       "    </tr>\n",
       "    <tr>\n",
       "      <th>4</th>\n",
       "      <td>2006-12-16 21:00:00</td>\n",
       "      <td>183.388</td>\n",
       "    </tr>\n",
       "  </tbody>\n",
       "</table>\n",
       "</div>"
      ],
      "text/plain": [
       "                   ds        y\n",
       "0 2006-12-16 17:00:00  152.024\n",
       "1 2006-12-16 18:00:00  217.932\n",
       "2 2006-12-16 19:00:00  204.014\n",
       "3 2006-12-16 20:00:00  196.114\n",
       "4 2006-12-16 21:00:00  183.388"
      ]
     },
     "execution_count": 109,
     "metadata": {},
     "output_type": "execute_result"
    }
   ],
   "source": [
    "df_prophet_train.head()\n",
    "# should has column ds and y"
   ]
  },
  {
   "cell_type": "code",
   "execution_count": 110,
   "metadata": {},
   "outputs": [
    {
     "data": {
      "text/plain": [
       "DateTime\n",
       "2010-11-19 22:00:00    36.118\n",
       "2010-11-19 23:00:00    20.052\n",
       "2010-11-20 00:00:00    19.018\n",
       "2010-11-20 01:00:00    17.094\n",
       "2010-11-20 02:00:00    21.402\n",
       "Freq: h, Name: Global_active_power, dtype: float64"
      ]
     },
     "execution_count": 110,
     "metadata": {},
     "output_type": "execute_result"
    }
   ],
   "source": [
    "df_test.head()"
   ]
  },
  {
   "cell_type": "code",
   "execution_count": 111,
   "metadata": {},
   "outputs": [
    {
     "name": "stderr",
     "output_type": "stream",
     "text": [
      "10:09:13 - cmdstanpy - INFO - Chain [1] start processing\n",
      "10:09:25 - cmdstanpy - INFO - Chain [1] done processing\n"
     ]
    },
    {
     "data": {
      "text/plain": [
       "<prophet.forecaster.Prophet at 0x224218ad390>"
      ]
     },
     "execution_count": 111,
     "metadata": {},
     "output_type": "execute_result"
    }
   ],
   "source": [
    "model_prophet = Prophet()\n",
    "model_prophet.fit(df_prophet_train)"
   ]
  },
  {
   "cell_type": "code",
   "execution_count": 112,
   "metadata": {},
   "outputs": [],
   "source": [
    "# Only predict for the test period\n",
    "# Forecast\n",
    "# Create DataFrame with only the test period datetimes\n",
    "future = pd.DataFrame({'ds': df_test.index})\n",
    "forecast = model_prophet.predict(future)\n",
    "\n"
   ]
  },
  {
   "cell_type": "code",
   "execution_count": 116,
   "metadata": {},
   "outputs": [
    {
     "data": {
      "text/html": [
       "<div>\n",
       "<style scoped>\n",
       "    .dataframe tbody tr th:only-of-type {\n",
       "        vertical-align: middle;\n",
       "    }\n",
       "\n",
       "    .dataframe tbody tr th {\n",
       "        vertical-align: top;\n",
       "    }\n",
       "\n",
       "    .dataframe thead th {\n",
       "        text-align: right;\n",
       "    }\n",
       "</style>\n",
       "<table border=\"1\" class=\"dataframe\">\n",
       "  <thead>\n",
       "    <tr style=\"text-align: right;\">\n",
       "      <th></th>\n",
       "      <th>ds</th>\n",
       "      <th>trend</th>\n",
       "      <th>yhat_lower</th>\n",
       "      <th>yhat_upper</th>\n",
       "      <th>trend_lower</th>\n",
       "      <th>trend_upper</th>\n",
       "      <th>additive_terms</th>\n",
       "      <th>additive_terms_lower</th>\n",
       "      <th>additive_terms_upper</th>\n",
       "      <th>daily</th>\n",
       "      <th>...</th>\n",
       "      <th>weekly</th>\n",
       "      <th>weekly_lower</th>\n",
       "      <th>weekly_upper</th>\n",
       "      <th>yearly</th>\n",
       "      <th>yearly_lower</th>\n",
       "      <th>yearly_upper</th>\n",
       "      <th>multiplicative_terms</th>\n",
       "      <th>multiplicative_terms_lower</th>\n",
       "      <th>multiplicative_terms_upper</th>\n",
       "      <th>yhat</th>\n",
       "    </tr>\n",
       "  </thead>\n",
       "  <tbody>\n",
       "    <tr>\n",
       "      <th>0</th>\n",
       "      <td>2010-11-19 22:00:00</td>\n",
       "      <td>63.453083</td>\n",
       "      <td>44.760858</td>\n",
       "      <td>159.584583</td>\n",
       "      <td>63.453083</td>\n",
       "      <td>63.453083</td>\n",
       "      <td>38.624831</td>\n",
       "      <td>38.624831</td>\n",
       "      <td>38.624831</td>\n",
       "      <td>17.840737</td>\n",
       "      <td>...</td>\n",
       "      <td>-0.264622</td>\n",
       "      <td>-0.264622</td>\n",
       "      <td>-0.264622</td>\n",
       "      <td>21.048715</td>\n",
       "      <td>21.048715</td>\n",
       "      <td>21.048715</td>\n",
       "      <td>0.0</td>\n",
       "      <td>0.0</td>\n",
       "      <td>0.0</td>\n",
       "      <td>102.077914</td>\n",
       "    </tr>\n",
       "    <tr>\n",
       "      <th>1</th>\n",
       "      <td>2010-11-19 23:00:00</td>\n",
       "      <td>63.453004</td>\n",
       "      <td>19.627201</td>\n",
       "      <td>135.642965</td>\n",
       "      <td>63.453004</td>\n",
       "      <td>63.453004</td>\n",
       "      <td>13.399208</td>\n",
       "      <td>13.399208</td>\n",
       "      <td>13.399208</td>\n",
       "      <td>-7.848161</td>\n",
       "      <td>...</td>\n",
       "      <td>0.168223</td>\n",
       "      <td>0.168223</td>\n",
       "      <td>0.168223</td>\n",
       "      <td>21.079146</td>\n",
       "      <td>21.079146</td>\n",
       "      <td>21.079146</td>\n",
       "      <td>0.0</td>\n",
       "      <td>0.0</td>\n",
       "      <td>0.0</td>\n",
       "      <td>76.852212</td>\n",
       "    </tr>\n",
       "    <tr>\n",
       "      <th>2</th>\n",
       "      <td>2010-11-20 00:00:00</td>\n",
       "      <td>63.452924</td>\n",
       "      <td>1.248575</td>\n",
       "      <td>115.476017</td>\n",
       "      <td>63.452924</td>\n",
       "      <td>63.452924</td>\n",
       "      <td>-3.041515</td>\n",
       "      <td>-3.041515</td>\n",
       "      <td>-3.041515</td>\n",
       "      <td>-24.768743</td>\n",
       "      <td>...</td>\n",
       "      <td>0.617933</td>\n",
       "      <td>0.617933</td>\n",
       "      <td>0.617933</td>\n",
       "      <td>21.109294</td>\n",
       "      <td>21.109294</td>\n",
       "      <td>21.109294</td>\n",
       "      <td>0.0</td>\n",
       "      <td>0.0</td>\n",
       "      <td>0.0</td>\n",
       "      <td>60.411409</td>\n",
       "    </tr>\n",
       "    <tr>\n",
       "      <th>3</th>\n",
       "      <td>2010-11-20 01:00:00</td>\n",
       "      <td>63.452844</td>\n",
       "      <td>-1.987724</td>\n",
       "      <td>110.743242</td>\n",
       "      <td>63.452844</td>\n",
       "      <td>63.452844</td>\n",
       "      <td>-10.152768</td>\n",
       "      <td>-10.152768</td>\n",
       "      <td>-10.152768</td>\n",
       "      <td>-32.375330</td>\n",
       "      <td>...</td>\n",
       "      <td>1.083403</td>\n",
       "      <td>1.083403</td>\n",
       "      <td>1.083403</td>\n",
       "      <td>21.139159</td>\n",
       "      <td>21.139159</td>\n",
       "      <td>21.139159</td>\n",
       "      <td>0.0</td>\n",
       "      <td>0.0</td>\n",
       "      <td>0.0</td>\n",
       "      <td>53.300076</td>\n",
       "    </tr>\n",
       "    <tr>\n",
       "      <th>4</th>\n",
       "      <td>2010-11-20 02:00:00</td>\n",
       "      <td>63.452764</td>\n",
       "      <td>-8.086083</td>\n",
       "      <td>102.912088</td>\n",
       "      <td>63.452764</td>\n",
       "      <td>63.452764</td>\n",
       "      <td>-13.775696</td>\n",
       "      <td>-13.775696</td>\n",
       "      <td>-13.775696</td>\n",
       "      <td>-36.507737</td>\n",
       "      <td>...</td>\n",
       "      <td>1.563301</td>\n",
       "      <td>1.563301</td>\n",
       "      <td>1.563301</td>\n",
       "      <td>21.168740</td>\n",
       "      <td>21.168740</td>\n",
       "      <td>21.168740</td>\n",
       "      <td>0.0</td>\n",
       "      <td>0.0</td>\n",
       "      <td>0.0</td>\n",
       "      <td>49.677067</td>\n",
       "    </tr>\n",
       "    <tr>\n",
       "      <th>5</th>\n",
       "      <td>2010-11-20 03:00:00</td>\n",
       "      <td>63.452684</td>\n",
       "      <td>-7.342601</td>\n",
       "      <td>100.102135</td>\n",
       "      <td>63.452684</td>\n",
       "      <td>63.452684</td>\n",
       "      <td>-17.332129</td>\n",
       "      <td>-17.332129</td>\n",
       "      <td>-17.332129</td>\n",
       "      <td>-40.586231</td>\n",
       "      <td>...</td>\n",
       "      <td>2.056065</td>\n",
       "      <td>2.056065</td>\n",
       "      <td>2.056065</td>\n",
       "      <td>21.198037</td>\n",
       "      <td>21.198037</td>\n",
       "      <td>21.198037</td>\n",
       "      <td>0.0</td>\n",
       "      <td>0.0</td>\n",
       "      <td>0.0</td>\n",
       "      <td>46.120555</td>\n",
       "    </tr>\n",
       "    <tr>\n",
       "      <th>6</th>\n",
       "      <td>2010-11-20 04:00:00</td>\n",
       "      <td>63.452604</td>\n",
       "      <td>-11.090405</td>\n",
       "      <td>104.283304</td>\n",
       "      <td>63.452604</td>\n",
       "      <td>63.452604</td>\n",
       "      <td>-17.249902</td>\n",
       "      <td>-17.249902</td>\n",
       "      <td>-17.249902</td>\n",
       "      <td>-41.036861</td>\n",
       "      <td>...</td>\n",
       "      <td>2.559910</td>\n",
       "      <td>2.559910</td>\n",
       "      <td>2.559910</td>\n",
       "      <td>21.227049</td>\n",
       "      <td>21.227049</td>\n",
       "      <td>21.227049</td>\n",
       "      <td>0.0</td>\n",
       "      <td>0.0</td>\n",
       "      <td>0.0</td>\n",
       "      <td>46.202702</td>\n",
       "    </tr>\n",
       "    <tr>\n",
       "      <th>7</th>\n",
       "      <td>2010-11-20 05:00:00</td>\n",
       "      <td>63.452524</td>\n",
       "      <td>0.745322</td>\n",
       "      <td>109.951377</td>\n",
       "      <td>63.452524</td>\n",
       "      <td>63.452524</td>\n",
       "      <td>-7.289084</td>\n",
       "      <td>-7.289084</td>\n",
       "      <td>-7.289084</td>\n",
       "      <td>-31.617687</td>\n",
       "      <td>...</td>\n",
       "      <td>3.072826</td>\n",
       "      <td>3.072826</td>\n",
       "      <td>3.072826</td>\n",
       "      <td>21.255777</td>\n",
       "      <td>21.255777</td>\n",
       "      <td>21.255777</td>\n",
       "      <td>0.0</td>\n",
       "      <td>0.0</td>\n",
       "      <td>0.0</td>\n",
       "      <td>56.163440</td>\n",
       "    </tr>\n",
       "    <tr>\n",
       "      <th>8</th>\n",
       "      <td>2010-11-20 06:00:00</td>\n",
       "      <td>63.452444</td>\n",
       "      <td>23.544787</td>\n",
       "      <td>132.034970</td>\n",
       "      <td>63.452444</td>\n",
       "      <td>63.452444</td>\n",
       "      <td>13.092580</td>\n",
       "      <td>13.092580</td>\n",
       "      <td>13.092580</td>\n",
       "      <td>-11.784232</td>\n",
       "      <td>...</td>\n",
       "      <td>3.592593</td>\n",
       "      <td>3.592593</td>\n",
       "      <td>3.592593</td>\n",
       "      <td>21.284219</td>\n",
       "      <td>21.284219</td>\n",
       "      <td>21.284219</td>\n",
       "      <td>0.0</td>\n",
       "      <td>0.0</td>\n",
       "      <td>0.0</td>\n",
       "      <td>76.545025</td>\n",
       "    </tr>\n",
       "    <tr>\n",
       "      <th>9</th>\n",
       "      <td>2010-11-20 07:00:00</td>\n",
       "      <td>63.452365</td>\n",
       "      <td>41.395282</td>\n",
       "      <td>155.033374</td>\n",
       "      <td>63.452365</td>\n",
       "      <td>63.452365</td>\n",
       "      <td>35.540868</td>\n",
       "      <td>35.540868</td>\n",
       "      <td>35.540868</td>\n",
       "      <td>10.111704</td>\n",
       "      <td>...</td>\n",
       "      <td>4.116787</td>\n",
       "      <td>4.116787</td>\n",
       "      <td>4.116787</td>\n",
       "      <td>21.312377</td>\n",
       "      <td>21.312377</td>\n",
       "      <td>21.312377</td>\n",
       "      <td>0.0</td>\n",
       "      <td>0.0</td>\n",
       "      <td>0.0</td>\n",
       "      <td>98.993232</td>\n",
       "    </tr>\n",
       "    <tr>\n",
       "      <th>10</th>\n",
       "      <td>2010-11-20 08:00:00</td>\n",
       "      <td>63.452285</td>\n",
       "      <td>56.972797</td>\n",
       "      <td>165.897063</td>\n",
       "      <td>63.452285</td>\n",
       "      <td>63.452285</td>\n",
       "      <td>48.737220</td>\n",
       "      <td>48.737220</td>\n",
       "      <td>48.737220</td>\n",
       "      <td>22.754174</td>\n",
       "      <td>...</td>\n",
       "      <td>4.642799</td>\n",
       "      <td>4.642799</td>\n",
       "      <td>4.642799</td>\n",
       "      <td>21.340248</td>\n",
       "      <td>21.340248</td>\n",
       "      <td>21.340248</td>\n",
       "      <td>0.0</td>\n",
       "      <td>0.0</td>\n",
       "      <td>0.0</td>\n",
       "      <td>112.189505</td>\n",
       "    </tr>\n",
       "    <tr>\n",
       "      <th>11</th>\n",
       "      <td>2010-11-20 09:00:00</td>\n",
       "      <td>63.452205</td>\n",
       "      <td>51.149375</td>\n",
       "      <td>170.347075</td>\n",
       "      <td>63.452205</td>\n",
       "      <td>63.452205</td>\n",
       "      <td>47.979099</td>\n",
       "      <td>47.979099</td>\n",
       "      <td>47.979099</td>\n",
       "      <td>21.443419</td>\n",
       "      <td>...</td>\n",
       "      <td>5.167846</td>\n",
       "      <td>5.167846</td>\n",
       "      <td>5.167846</td>\n",
       "      <td>21.367833</td>\n",
       "      <td>21.367833</td>\n",
       "      <td>21.367833</td>\n",
       "      <td>0.0</td>\n",
       "      <td>0.0</td>\n",
       "      <td>0.0</td>\n",
       "      <td>111.431303</td>\n",
       "    </tr>\n",
       "    <tr>\n",
       "      <th>12</th>\n",
       "      <td>2010-11-20 10:00:00</td>\n",
       "      <td>63.452125</td>\n",
       "      <td>43.475448</td>\n",
       "      <td>158.097826</td>\n",
       "      <td>63.452125</td>\n",
       "      <td>63.452125</td>\n",
       "      <td>38.944938</td>\n",
       "      <td>38.944938</td>\n",
       "      <td>38.944938</td>\n",
       "      <td>11.860808</td>\n",
       "      <td>...</td>\n",
       "      <td>5.688998</td>\n",
       "      <td>5.688998</td>\n",
       "      <td>5.688998</td>\n",
       "      <td>21.395132</td>\n",
       "      <td>21.395132</td>\n",
       "      <td>21.395132</td>\n",
       "      <td>0.0</td>\n",
       "      <td>0.0</td>\n",
       "      <td>0.0</td>\n",
       "      <td>102.397063</td>\n",
       "    </tr>\n",
       "    <tr>\n",
       "      <th>13</th>\n",
       "      <td>2010-11-20 11:00:00</td>\n",
       "      <td>63.452045</td>\n",
       "      <td>39.369382</td>\n",
       "      <td>153.345008</td>\n",
       "      <td>63.452045</td>\n",
       "      <td>63.452045</td>\n",
       "      <td>31.815484</td>\n",
       "      <td>31.815484</td>\n",
       "      <td>31.815484</td>\n",
       "      <td>4.190144</td>\n",
       "      <td>...</td>\n",
       "      <td>6.203196</td>\n",
       "      <td>6.203196</td>\n",
       "      <td>6.203196</td>\n",
       "      <td>21.422145</td>\n",
       "      <td>21.422145</td>\n",
       "      <td>21.422145</td>\n",
       "      <td>0.0</td>\n",
       "      <td>0.0</td>\n",
       "      <td>0.0</td>\n",
       "      <td>95.267529</td>\n",
       "    </tr>\n",
       "    <tr>\n",
       "      <th>14</th>\n",
       "      <td>2010-11-20 12:00:00</td>\n",
       "      <td>63.451965</td>\n",
       "      <td>39.958112</td>\n",
       "      <td>152.012986</td>\n",
       "      <td>63.451965</td>\n",
       "      <td>63.451965</td>\n",
       "      <td>31.561378</td>\n",
       "      <td>31.561378</td>\n",
       "      <td>31.561378</td>\n",
       "      <td>3.405232</td>\n",
       "      <td>...</td>\n",
       "      <td>6.707276</td>\n",
       "      <td>6.707276</td>\n",
       "      <td>6.707276</td>\n",
       "      <td>21.448870</td>\n",
       "      <td>21.448870</td>\n",
       "      <td>21.448870</td>\n",
       "      <td>0.0</td>\n",
       "      <td>0.0</td>\n",
       "      <td>0.0</td>\n",
       "      <td>95.013343</td>\n",
       "    </tr>\n",
       "    <tr>\n",
       "      <th>15</th>\n",
       "      <td>2010-11-20 13:00:00</td>\n",
       "      <td>63.451885</td>\n",
       "      <td>42.092745</td>\n",
       "      <td>155.377557</td>\n",
       "      <td>63.451885</td>\n",
       "      <td>63.451885</td>\n",
       "      <td>34.094233</td>\n",
       "      <td>34.094233</td>\n",
       "      <td>34.094233</td>\n",
       "      <td>5.420925</td>\n",
       "      <td>...</td>\n",
       "      <td>7.198000</td>\n",
       "      <td>7.198000</td>\n",
       "      <td>7.198000</td>\n",
       "      <td>21.475308</td>\n",
       "      <td>21.475308</td>\n",
       "      <td>21.475308</td>\n",
       "      <td>0.0</td>\n",
       "      <td>0.0</td>\n",
       "      <td>0.0</td>\n",
       "      <td>97.546118</td>\n",
       "    </tr>\n",
       "    <tr>\n",
       "      <th>16</th>\n",
       "      <td>2010-11-20 14:00:00</td>\n",
       "      <td>63.451806</td>\n",
       "      <td>38.334558</td>\n",
       "      <td>149.166052</td>\n",
       "      <td>63.451806</td>\n",
       "      <td>63.451806</td>\n",
       "      <td>32.074745</td>\n",
       "      <td>32.074745</td>\n",
       "      <td>32.074745</td>\n",
       "      <td>2.901205</td>\n",
       "      <td>...</td>\n",
       "      <td>7.672081</td>\n",
       "      <td>7.672081</td>\n",
       "      <td>7.672081</td>\n",
       "      <td>21.501460</td>\n",
       "      <td>21.501460</td>\n",
       "      <td>21.501460</td>\n",
       "      <td>0.0</td>\n",
       "      <td>0.0</td>\n",
       "      <td>0.0</td>\n",
       "      <td>95.526551</td>\n",
       "    </tr>\n",
       "    <tr>\n",
       "      <th>17</th>\n",
       "      <td>2010-11-20 15:00:00</td>\n",
       "      <td>63.451726</td>\n",
       "      <td>33.720514</td>\n",
       "      <td>140.980878</td>\n",
       "      <td>63.451726</td>\n",
       "      <td>63.451726</td>\n",
       "      <td>24.312048</td>\n",
       "      <td>24.312048</td>\n",
       "      <td>24.312048</td>\n",
       "      <td>-5.341491</td>\n",
       "      <td>...</td>\n",
       "      <td>8.126216</td>\n",
       "      <td>8.126216</td>\n",
       "      <td>8.126216</td>\n",
       "      <td>21.527323</td>\n",
       "      <td>21.527323</td>\n",
       "      <td>21.527323</td>\n",
       "      <td>0.0</td>\n",
       "      <td>0.0</td>\n",
       "      <td>0.0</td>\n",
       "      <td>87.763773</td>\n",
       "    </tr>\n",
       "    <tr>\n",
       "      <th>18</th>\n",
       "      <td>2010-11-20 16:00:00</td>\n",
       "      <td>63.451646</td>\n",
       "      <td>27.911876</td>\n",
       "      <td>136.741886</td>\n",
       "      <td>63.451646</td>\n",
       "      <td>63.451646</td>\n",
       "      <td>18.813996</td>\n",
       "      <td>18.813996</td>\n",
       "      <td>18.813996</td>\n",
       "      <td>-11.296018</td>\n",
       "      <td>...</td>\n",
       "      <td>8.557116</td>\n",
       "      <td>8.557116</td>\n",
       "      <td>8.557116</td>\n",
       "      <td>21.552899</td>\n",
       "      <td>21.552899</td>\n",
       "      <td>21.552899</td>\n",
       "      <td>0.0</td>\n",
       "      <td>0.0</td>\n",
       "      <td>0.0</td>\n",
       "      <td>82.265642</td>\n",
       "    </tr>\n",
       "    <tr>\n",
       "      <th>19</th>\n",
       "      <td>2010-11-20 17:00:00</td>\n",
       "      <td>63.451566</td>\n",
       "      <td>30.997907</td>\n",
       "      <td>140.433698</td>\n",
       "      <td>63.451566</td>\n",
       "      <td>63.451566</td>\n",
       "      <td>25.725572</td>\n",
       "      <td>25.725572</td>\n",
       "      <td>25.725572</td>\n",
       "      <td>-4.814153</td>\n",
       "      <td>...</td>\n",
       "      <td>8.961539</td>\n",
       "      <td>8.961539</td>\n",
       "      <td>8.961539</td>\n",
       "      <td>21.578186</td>\n",
       "      <td>21.578186</td>\n",
       "      <td>21.578186</td>\n",
       "      <td>0.0</td>\n",
       "      <td>0.0</td>\n",
       "      <td>0.0</td>\n",
       "      <td>89.177138</td>\n",
       "    </tr>\n",
       "    <tr>\n",
       "      <th>20</th>\n",
       "      <td>2010-11-20 18:00:00</td>\n",
       "      <td>63.451486</td>\n",
       "      <td>55.619868</td>\n",
       "      <td>170.969485</td>\n",
       "      <td>63.451486</td>\n",
       "      <td>63.451486</td>\n",
       "      <td>46.628728</td>\n",
       "      <td>46.628728</td>\n",
       "      <td>46.628728</td>\n",
       "      <td>15.689219</td>\n",
       "      <td>...</td>\n",
       "      <td>9.336323</td>\n",
       "      <td>9.336323</td>\n",
       "      <td>9.336323</td>\n",
       "      <td>21.603186</td>\n",
       "      <td>21.603186</td>\n",
       "      <td>21.603186</td>\n",
       "      <td>0.0</td>\n",
       "      <td>0.0</td>\n",
       "      <td>0.0</td>\n",
       "      <td>110.080214</td>\n",
       "    </tr>\n",
       "    <tr>\n",
       "      <th>21</th>\n",
       "      <td>2010-11-20 19:00:00</td>\n",
       "      <td>63.451406</td>\n",
       "      <td>79.883309</td>\n",
       "      <td>187.728645</td>\n",
       "      <td>63.451406</td>\n",
       "      <td>63.451406</td>\n",
       "      <td>70.780351</td>\n",
       "      <td>70.780351</td>\n",
       "      <td>70.780351</td>\n",
       "      <td>39.474036</td>\n",
       "      <td>...</td>\n",
       "      <td>9.678418</td>\n",
       "      <td>9.678418</td>\n",
       "      <td>9.678418</td>\n",
       "      <td>21.627897</td>\n",
       "      <td>21.627897</td>\n",
       "      <td>21.627897</td>\n",
       "      <td>0.0</td>\n",
       "      <td>0.0</td>\n",
       "      <td>0.0</td>\n",
       "      <td>134.231758</td>\n",
       "    </tr>\n",
       "    <tr>\n",
       "      <th>22</th>\n",
       "      <td>2010-11-20 20:00:00</td>\n",
       "      <td>63.451326</td>\n",
       "      <td>95.817457</td>\n",
       "      <td>201.921231</td>\n",
       "      <td>63.451326</td>\n",
       "      <td>63.451326</td>\n",
       "      <td>82.579459</td>\n",
       "      <td>82.579459</td>\n",
       "      <td>82.579459</td>\n",
       "      <td>50.942217</td>\n",
       "      <td>...</td>\n",
       "      <td>9.984922</td>\n",
       "      <td>9.984922</td>\n",
       "      <td>9.984922</td>\n",
       "      <td>21.652320</td>\n",
       "      <td>21.652320</td>\n",
       "      <td>21.652320</td>\n",
       "      <td>0.0</td>\n",
       "      <td>0.0</td>\n",
       "      <td>0.0</td>\n",
       "      <td>146.030785</td>\n",
       "    </tr>\n",
       "    <tr>\n",
       "      <th>23</th>\n",
       "      <td>2010-11-20 21:00:00</td>\n",
       "      <td>63.451246</td>\n",
       "      <td>79.213190</td>\n",
       "      <td>195.846694</td>\n",
       "      <td>63.451246</td>\n",
       "      <td>63.451246</td>\n",
       "      <td>73.872390</td>\n",
       "      <td>73.872390</td>\n",
       "      <td>73.872390</td>\n",
       "      <td>41.942827</td>\n",
       "      <td>...</td>\n",
       "      <td>10.253109</td>\n",
       "      <td>10.253109</td>\n",
       "      <td>10.253109</td>\n",
       "      <td>21.676454</td>\n",
       "      <td>21.676454</td>\n",
       "      <td>21.676454</td>\n",
       "      <td>0.0</td>\n",
       "      <td>0.0</td>\n",
       "      <td>0.0</td>\n",
       "      <td>137.323637</td>\n",
       "    </tr>\n",
       "  </tbody>\n",
       "</table>\n",
       "<p>24 rows × 22 columns</p>\n",
       "</div>"
      ],
      "text/plain": [
       "                    ds      trend  yhat_lower  yhat_upper  trend_lower  \\\n",
       "0  2010-11-19 22:00:00  63.453083   44.760858  159.584583    63.453083   \n",
       "1  2010-11-19 23:00:00  63.453004   19.627201  135.642965    63.453004   \n",
       "2  2010-11-20 00:00:00  63.452924    1.248575  115.476017    63.452924   \n",
       "3  2010-11-20 01:00:00  63.452844   -1.987724  110.743242    63.452844   \n",
       "4  2010-11-20 02:00:00  63.452764   -8.086083  102.912088    63.452764   \n",
       "5  2010-11-20 03:00:00  63.452684   -7.342601  100.102135    63.452684   \n",
       "6  2010-11-20 04:00:00  63.452604  -11.090405  104.283304    63.452604   \n",
       "7  2010-11-20 05:00:00  63.452524    0.745322  109.951377    63.452524   \n",
       "8  2010-11-20 06:00:00  63.452444   23.544787  132.034970    63.452444   \n",
       "9  2010-11-20 07:00:00  63.452365   41.395282  155.033374    63.452365   \n",
       "10 2010-11-20 08:00:00  63.452285   56.972797  165.897063    63.452285   \n",
       "11 2010-11-20 09:00:00  63.452205   51.149375  170.347075    63.452205   \n",
       "12 2010-11-20 10:00:00  63.452125   43.475448  158.097826    63.452125   \n",
       "13 2010-11-20 11:00:00  63.452045   39.369382  153.345008    63.452045   \n",
       "14 2010-11-20 12:00:00  63.451965   39.958112  152.012986    63.451965   \n",
       "15 2010-11-20 13:00:00  63.451885   42.092745  155.377557    63.451885   \n",
       "16 2010-11-20 14:00:00  63.451806   38.334558  149.166052    63.451806   \n",
       "17 2010-11-20 15:00:00  63.451726   33.720514  140.980878    63.451726   \n",
       "18 2010-11-20 16:00:00  63.451646   27.911876  136.741886    63.451646   \n",
       "19 2010-11-20 17:00:00  63.451566   30.997907  140.433698    63.451566   \n",
       "20 2010-11-20 18:00:00  63.451486   55.619868  170.969485    63.451486   \n",
       "21 2010-11-20 19:00:00  63.451406   79.883309  187.728645    63.451406   \n",
       "22 2010-11-20 20:00:00  63.451326   95.817457  201.921231    63.451326   \n",
       "23 2010-11-20 21:00:00  63.451246   79.213190  195.846694    63.451246   \n",
       "\n",
       "    trend_upper  additive_terms  additive_terms_lower  additive_terms_upper  \\\n",
       "0     63.453083       38.624831             38.624831             38.624831   \n",
       "1     63.453004       13.399208             13.399208             13.399208   \n",
       "2     63.452924       -3.041515             -3.041515             -3.041515   \n",
       "3     63.452844      -10.152768            -10.152768            -10.152768   \n",
       "4     63.452764      -13.775696            -13.775696            -13.775696   \n",
       "5     63.452684      -17.332129            -17.332129            -17.332129   \n",
       "6     63.452604      -17.249902            -17.249902            -17.249902   \n",
       "7     63.452524       -7.289084             -7.289084             -7.289084   \n",
       "8     63.452444       13.092580             13.092580             13.092580   \n",
       "9     63.452365       35.540868             35.540868             35.540868   \n",
       "10    63.452285       48.737220             48.737220             48.737220   \n",
       "11    63.452205       47.979099             47.979099             47.979099   \n",
       "12    63.452125       38.944938             38.944938             38.944938   \n",
       "13    63.452045       31.815484             31.815484             31.815484   \n",
       "14    63.451965       31.561378             31.561378             31.561378   \n",
       "15    63.451885       34.094233             34.094233             34.094233   \n",
       "16    63.451806       32.074745             32.074745             32.074745   \n",
       "17    63.451726       24.312048             24.312048             24.312048   \n",
       "18    63.451646       18.813996             18.813996             18.813996   \n",
       "19    63.451566       25.725572             25.725572             25.725572   \n",
       "20    63.451486       46.628728             46.628728             46.628728   \n",
       "21    63.451406       70.780351             70.780351             70.780351   \n",
       "22    63.451326       82.579459             82.579459             82.579459   \n",
       "23    63.451246       73.872390             73.872390             73.872390   \n",
       "\n",
       "        daily  ...     weekly  weekly_lower  weekly_upper     yearly  \\\n",
       "0   17.840737  ...  -0.264622     -0.264622     -0.264622  21.048715   \n",
       "1   -7.848161  ...   0.168223      0.168223      0.168223  21.079146   \n",
       "2  -24.768743  ...   0.617933      0.617933      0.617933  21.109294   \n",
       "3  -32.375330  ...   1.083403      1.083403      1.083403  21.139159   \n",
       "4  -36.507737  ...   1.563301      1.563301      1.563301  21.168740   \n",
       "5  -40.586231  ...   2.056065      2.056065      2.056065  21.198037   \n",
       "6  -41.036861  ...   2.559910      2.559910      2.559910  21.227049   \n",
       "7  -31.617687  ...   3.072826      3.072826      3.072826  21.255777   \n",
       "8  -11.784232  ...   3.592593      3.592593      3.592593  21.284219   \n",
       "9   10.111704  ...   4.116787      4.116787      4.116787  21.312377   \n",
       "10  22.754174  ...   4.642799      4.642799      4.642799  21.340248   \n",
       "11  21.443419  ...   5.167846      5.167846      5.167846  21.367833   \n",
       "12  11.860808  ...   5.688998      5.688998      5.688998  21.395132   \n",
       "13   4.190144  ...   6.203196      6.203196      6.203196  21.422145   \n",
       "14   3.405232  ...   6.707276      6.707276      6.707276  21.448870   \n",
       "15   5.420925  ...   7.198000      7.198000      7.198000  21.475308   \n",
       "16   2.901205  ...   7.672081      7.672081      7.672081  21.501460   \n",
       "17  -5.341491  ...   8.126216      8.126216      8.126216  21.527323   \n",
       "18 -11.296018  ...   8.557116      8.557116      8.557116  21.552899   \n",
       "19  -4.814153  ...   8.961539      8.961539      8.961539  21.578186   \n",
       "20  15.689219  ...   9.336323      9.336323      9.336323  21.603186   \n",
       "21  39.474036  ...   9.678418      9.678418      9.678418  21.627897   \n",
       "22  50.942217  ...   9.984922      9.984922      9.984922  21.652320   \n",
       "23  41.942827  ...  10.253109     10.253109     10.253109  21.676454   \n",
       "\n",
       "    yearly_lower  yearly_upper  multiplicative_terms  \\\n",
       "0      21.048715     21.048715                   0.0   \n",
       "1      21.079146     21.079146                   0.0   \n",
       "2      21.109294     21.109294                   0.0   \n",
       "3      21.139159     21.139159                   0.0   \n",
       "4      21.168740     21.168740                   0.0   \n",
       "5      21.198037     21.198037                   0.0   \n",
       "6      21.227049     21.227049                   0.0   \n",
       "7      21.255777     21.255777                   0.0   \n",
       "8      21.284219     21.284219                   0.0   \n",
       "9      21.312377     21.312377                   0.0   \n",
       "10     21.340248     21.340248                   0.0   \n",
       "11     21.367833     21.367833                   0.0   \n",
       "12     21.395132     21.395132                   0.0   \n",
       "13     21.422145     21.422145                   0.0   \n",
       "14     21.448870     21.448870                   0.0   \n",
       "15     21.475308     21.475308                   0.0   \n",
       "16     21.501460     21.501460                   0.0   \n",
       "17     21.527323     21.527323                   0.0   \n",
       "18     21.552899     21.552899                   0.0   \n",
       "19     21.578186     21.578186                   0.0   \n",
       "20     21.603186     21.603186                   0.0   \n",
       "21     21.627897     21.627897                   0.0   \n",
       "22     21.652320     21.652320                   0.0   \n",
       "23     21.676454     21.676454                   0.0   \n",
       "\n",
       "    multiplicative_terms_lower  multiplicative_terms_upper        yhat  \n",
       "0                          0.0                         0.0  102.077914  \n",
       "1                          0.0                         0.0   76.852212  \n",
       "2                          0.0                         0.0   60.411409  \n",
       "3                          0.0                         0.0   53.300076  \n",
       "4                          0.0                         0.0   49.677067  \n",
       "5                          0.0                         0.0   46.120555  \n",
       "6                          0.0                         0.0   46.202702  \n",
       "7                          0.0                         0.0   56.163440  \n",
       "8                          0.0                         0.0   76.545025  \n",
       "9                          0.0                         0.0   98.993232  \n",
       "10                         0.0                         0.0  112.189505  \n",
       "11                         0.0                         0.0  111.431303  \n",
       "12                         0.0                         0.0  102.397063  \n",
       "13                         0.0                         0.0   95.267529  \n",
       "14                         0.0                         0.0   95.013343  \n",
       "15                         0.0                         0.0   97.546118  \n",
       "16                         0.0                         0.0   95.526551  \n",
       "17                         0.0                         0.0   87.763773  \n",
       "18                         0.0                         0.0   82.265642  \n",
       "19                         0.0                         0.0   89.177138  \n",
       "20                         0.0                         0.0  110.080214  \n",
       "21                         0.0                         0.0  134.231758  \n",
       "22                         0.0                         0.0  146.030785  \n",
       "23                         0.0                         0.0  137.323637  \n",
       "\n",
       "[24 rows x 22 columns]"
      ]
     },
     "execution_count": 116,
     "metadata": {},
     "output_type": "execute_result"
    }
   ],
   "source": [
    "forecast.head(24)"
   ]
  },
  {
   "cell_type": "code",
   "execution_count": 117,
   "metadata": {},
   "outputs": [
    {
     "data": {
      "text/plain": [
       "DateTime\n",
       "2010-11-19 22:00:00     36.118\n",
       "2010-11-19 23:00:00     20.052\n",
       "2010-11-20 00:00:00     19.018\n",
       "2010-11-20 01:00:00     17.094\n",
       "2010-11-20 02:00:00     21.402\n",
       "2010-11-20 03:00:00     18.616\n",
       "2010-11-20 04:00:00     19.592\n",
       "2010-11-20 05:00:00     53.116\n",
       "2010-11-20 06:00:00     47.194\n",
       "2010-11-20 07:00:00    158.054\n",
       "2010-11-20 08:00:00    118.370\n",
       "2010-11-20 09:00:00    112.504\n",
       "2010-11-20 10:00:00     77.528\n",
       "2010-11-20 11:00:00    161.468\n",
       "2010-11-20 12:00:00     67.836\n",
       "2010-11-20 13:00:00     77.880\n",
       "2010-11-20 14:00:00     63.086\n",
       "2010-11-20 15:00:00     75.490\n",
       "2010-11-20 16:00:00     91.022\n",
       "2010-11-20 17:00:00    107.718\n",
       "2010-11-20 18:00:00    337.610\n",
       "2010-11-20 19:00:00    195.582\n",
       "2010-11-20 20:00:00    127.028\n",
       "2010-11-20 21:00:00    106.446\n",
       "Freq: h, Name: Global_active_power, dtype: float64"
      ]
     },
     "execution_count": 117,
     "metadata": {},
     "output_type": "execute_result"
    }
   ],
   "source": [
    "df_test.head(24)"
   ]
  },
  {
   "cell_type": "code",
   "execution_count": null,
   "metadata": {},
   "outputs": [],
   "source": [
    "# Get only test period\n",
    "# forecast_test = forecast.set_index('ds').loc[df_test.index]"
   ]
  },
  {
   "cell_type": "markdown",
   "metadata": {},
   "source": [
    "##### 5. forecast with XGBoost"
   ]
  },
  {
   "cell_type": "code",
   "execution_count": 118,
   "metadata": {},
   "outputs": [],
   "source": [
    "import xgboost as xgb"
   ]
  },
  {
   "cell_type": "code",
   "execution_count": 119,
   "metadata": {},
   "outputs": [],
   "source": [
    "# Create lagged features for training\n",
    "def create_lag_features(series, lags=24):\n",
    "    df = pd.DataFrame(series)\n",
    "    for i in range(1, lags+1):\n",
    "        df[f'lag_{i}'] = df['Global_active_power'].shift(i)\n",
    "    df = df.dropna()\n",
    "    return df"
   ]
  },
  {
   "cell_type": "code",
   "execution_count": 120,
   "metadata": {},
   "outputs": [],
   "source": [
    "lags = 24\n",
    "df_xgb = create_lag_features(df_hourly, lags)\n",
    "\n",
    "# Train/test split\n",
    "df_xgb_train = df_xgb[:-test_hours]\n",
    "df_xgb_test = df_xgb[-test_hours:]"
   ]
  },
  {
   "cell_type": "code",
   "execution_count": 121,
   "metadata": {},
   "outputs": [],
   "source": [
    "# Features and target\n",
    "X_train = df_xgb_train.drop(columns='Global_active_power')\n",
    "y_train = df_xgb_train['Global_active_power']\n",
    "X_test = df_xgb_test.drop(columns='Global_active_power')\n",
    "y_test = df_xgb_test['Global_active_power']"
   ]
  },
  {
   "cell_type": "code",
   "execution_count": 122,
   "metadata": {},
   "outputs": [],
   "source": [
    "# Train XGBoost\n",
    "model_xgb = xgb.XGBRegressor(n_estimators=100)\n",
    "model_xgb.fit(X_train, y_train)\n",
    "\n",
    "# Predict\n",
    "xgb_pred = model_xgb.predict(X_test)\n",
    "\n",
    "# Align index\n",
    "xgb_forecast = pd.Series(xgb_pred, index=y_test.index)"
   ]
  },
  {
   "cell_type": "code",
   "execution_count": 123,
   "metadata": {},
   "outputs": [],
   "source": [
    "\n",
    "import matplotlib.pyplot as plt"
   ]
  },
  {
   "cell_type": "code",
   "execution_count": 124,
   "metadata": {},
   "outputs": [
    {
     "data": {
      "text/plain": [
       "DateTime\n",
       "2010-11-19 22:00:00    102.077914\n",
       "2010-11-19 23:00:00     76.852212\n",
       "2010-11-20 00:00:00     60.411409\n",
       "2010-11-20 01:00:00     53.300076\n",
       "2010-11-20 02:00:00     49.677067\n",
       "                          ...    \n",
       "2010-11-26 17:00:00     78.815255\n",
       "2010-11-26 18:00:00     99.645737\n",
       "2010-11-26 19:00:00    123.776672\n",
       "2010-11-26 20:00:00    135.609904\n",
       "2010-11-26 21:00:00    126.994241\n",
       "Name: yhat, Length: 168, dtype: float64"
      ]
     },
     "execution_count": 124,
     "metadata": {},
     "output_type": "execute_result"
    }
   ],
   "source": [
    "forecast_test['yhat']"
   ]
  },
  {
   "cell_type": "code",
   "execution_count": 125,
   "metadata": {},
   "outputs": [
    {
     "data": {
      "image/png": "[encoded data removed]",
      "text/plain": [
       "<Figure size 1500x600 with 1 Axes>"
      ]
     },
     "metadata": {},
     "output_type": "display_data"
    }
   ],
   "source": [
    "# plot forecast vs actual\n",
    "\n",
    "plt.figure(figsize=(15,6))\n",
    "plt.plot(df_test.index, df_test.values, label='Actual', color='black')\n",
    "plt.plot(forecast_test.index, forecast_test['yhat'], label='Prophet Forecast', color='yellow')\n",
    "plt.plot(xgb_forecast.index, xgb_forecast.values, label='XGBoost Forecast', color='blue')\n",
    "plt.title('Actual vs Forecast: Prophet vs XGBoost')\n",
    "plt.xlabel('Date')\n",
    "plt.ylabel('kW')\n",
    "plt.legend()\n",
    "plt.grid(True)\n",
    "plt.tight_layout()\n",
    "plt.show()\n",
    "\n"
   ]
  },
  {
   "cell_type": "markdown",
   "metadata": {},
   "source": [
    "##### 6. compare prophet vs XGBoost"
   ]
  },
  {
   "cell_type": "code",
   "execution_count": 126,
   "metadata": {},
   "outputs": [],
   "source": [
    "import numpy as np\n",
    "from sklearn.metrics import mean_squared_error, mean_absolute_error"
   ]
  },
  {
   "cell_type": "code",
   "execution_count": 127,
   "metadata": {},
   "outputs": [],
   "source": [
    "\n",
    "def evaluate(y_true, y_pred, label):\n",
    "    y_true = np.array(y_true).flatten()\n",
    "    y_pred = np.array(y_pred).flatten()\n",
    "    if len(y_true) != len(y_pred):\n",
    "        raise ValueError(f\"y_true and y_pred must have the same length (got {len(y_true)} and {len(y_pred)})\")\n",
    "    rmse = np.sqrt(mean_squared_error(y_true, y_pred))\n",
    "    mae = mean_absolute_error(y_true, y_pred)\n",
    "    mask = y_true > 0.1\n",
    "    if np.sum(mask) == 0:\n",
    "        mape = np.nan\n",
    "    else:\n",
    "        mape = np.mean(np.abs((y_true[mask] - y_pred[mask]) / y_true[mask])) * 100\n",
    "    print(f'{label} → RMSE: {rmse:.3f}, MAE: {mae:.3f}, MAPE: {mape:.2f}% (filtered, y_true > 0.1)')\n"
   ]
  },
  {
   "cell_type": "code",
   "execution_count": 128,
   "metadata": {},
   "outputs": [
    {
     "name": "stdout",
     "output_type": "stream",
     "text": [
      "Prophet → RMSE: 45.525, MAE: 35.853, MAPE: 131.74% (filtered, y_true > 0.1)\n",
      "XGBoost → RMSE: 35.786, MAE: 23.510, MAPE: 57.32% (filtered, y_true > 0.1)\n"
     ]
    }
   ],
   "source": [
    "evaluate(df_test.values, forecast_test['yhat'].values, 'Prophet')\n",
    "evaluate(y_test.values, xgb_pred, 'XGBoost')"
   ]
  },
  {
   "cell_type": "markdown",
   "metadata": {},
   "source": [
    "interpreting the Results\n",
    "\n",
    "Prophet struggles when patterns are noisy or driven by exogenous variables it can’t model well.\n",
    "\n",
    "XGBoost wins across the board, likely because:\n",
    "\n",
    "It captured more short-term patterns (lags, rolling stats).\n",
    "\n",
    "It can model nonlinearities better than Prophet’s decomposed trend/seasonality approach."
   ]
  },
  {
   "cell_type": "markdown",
   "metadata": {},
   "source": [
    "| Metric   | Prophet | XGBoost    | Winner    |\n",
    "| -------- | ------- | ---------- | --------- |\n",
    "| **RMSE** | 45.525  | **35.786** | ✅ XGBoost |\n",
    "| **MAE**  | 35.853  | **23.510** | ✅ XGBoost |\n",
    "| **MAPE** | 131.74% | **57.32%** | ✅ XGBoost |\n",
    "\n",
    "Model optimization is needed"
   ]
  },
  {
   "cell_type": "markdown",
   "metadata": {},
   "source": [
    "##### 6. Model optimization"
   ]
  },
  {
   "cell_type": "markdown",
   "metadata": {},
   "source": [
    "##### 6.1 Optimize XGBoost by using Lag, Rolling, Calendar awareness"
   ]
  },
  {
   "cell_type": "code",
   "execution_count": 168,
   "metadata": {},
   "outputs": [],
   "source": [
    "df_copy2 = df.copy()"
   ]
  },
  {
   "cell_type": "code",
   "execution_count": null,
   "metadata": {},
   "outputs": [],
   "source": [
    "# 2. Resample to hourly\n",
    "df2_hourly = df_copy2['Global_active_power'].resample('h').sum()"
   ]
  },
  {
   "cell_type": "code",
   "execution_count": 181,
   "metadata": {},
   "outputs": [],
   "source": [
    "# Create a new DataFrame from the resampled data\n",
    "df2_hourly = df2_hourly.to_frame()"
   ]
  },
  {
   "cell_type": "code",
   "execution_count": 182,
   "metadata": {},
   "outputs": [],
   "source": [
    "# Create lag features\n",
    "df2_hourly['lag_1'] = df2_hourly['Global_active_power'].shift(1)\n",
    "df2_hourly['lag_24'] = df2_hourly['Global_active_power'].shift(24)\n",
    "\n",
    "# Rolling stats\n",
    "df2_hourly['rolling_mean_24'] = df2_hourly['Global_active_power'].rolling(24).mean()\n",
    "df2_hourly['rolling_std_24'] = df2_hourly['Global_active_power'].rolling(24).std()\n",
    "\n",
    "# Time features\n",
    "df2_hourly['hour'] = df2_hourly.index.hour\n",
    "df2_hourly['dayofweek'] = df2_hourly.index.dayofweek\n",
    "df2_hourly['is_weekend'] = df2_hourly['dayofweek'].isin([5, 6]).astype(int)\n",
    "\n",
    "# Drop rows with NaNs from shifting/rolling\n",
    "data2 = df2_hourly.dropna()"
   ]
  },
  {
   "cell_type": "code",
   "execution_count": 183,
   "metadata": {},
   "outputs": [
    {
     "data": {
      "text/html": [
       "<div>\n",
       "<style scoped>\n",
       "    .dataframe tbody tr th:only-of-type {\n",
       "        vertical-align: middle;\n",
       "    }\n",
       "\n",
       "    .dataframe tbody tr th {\n",
       "        vertical-align: top;\n",
       "    }\n",
       "\n",
       "    .dataframe thead th {\n",
       "        text-align: right;\n",
       "    }\n",
       "</style>\n",
       "<table border=\"1\" class=\"dataframe\">\n",
       "  <thead>\n",
       "    <tr style=\"text-align: right;\">\n",
       "      <th></th>\n",
       "      <th>Global_active_power</th>\n",
       "      <th>lag_1</th>\n",
       "      <th>lag_24</th>\n",
       "      <th>rolling_mean_24</th>\n",
       "      <th>rolling_std_24</th>\n",
       "      <th>hour</th>\n",
       "      <th>dayofweek</th>\n",
       "      <th>is_weekend</th>\n",
       "    </tr>\n",
       "    <tr>\n",
       "      <th>DateTime</th>\n",
       "      <th></th>\n",
       "      <th></th>\n",
       "      <th></th>\n",
       "      <th></th>\n",
       "      <th></th>\n",
       "      <th></th>\n",
       "      <th></th>\n",
       "      <th></th>\n",
       "    </tr>\n",
       "  </thead>\n",
       "  <tbody>\n",
       "    <tr>\n",
       "      <th>2006-12-17 17:00:00</th>\n",
       "      <td>204.406</td>\n",
       "      <td>199.562</td>\n",
       "      <td>152.024</td>\n",
       "      <td>147.908417</td>\n",
       "      <td>45.151273</td>\n",
       "      <td>17</td>\n",
       "      <td>6</td>\n",
       "      <td>1</td>\n",
       "    </tr>\n",
       "    <tr>\n",
       "      <th>2006-12-17 18:00:00</th>\n",
       "      <td>221.826</td>\n",
       "      <td>204.406</td>\n",
       "      <td>217.932</td>\n",
       "      <td>148.070667</td>\n",
       "      <td>45.420038</td>\n",
       "      <td>18</td>\n",
       "      <td>6</td>\n",
       "      <td>1</td>\n",
       "    </tr>\n",
       "    <tr>\n",
       "      <th>2006-12-17 19:00:00</th>\n",
       "      <td>174.504</td>\n",
       "      <td>221.826</td>\n",
       "      <td>204.014</td>\n",
       "      <td>146.841083</td>\n",
       "      <td>44.223403</td>\n",
       "      <td>19</td>\n",
       "      <td>6</td>\n",
       "      <td>1</td>\n",
       "    </tr>\n",
       "    <tr>\n",
       "      <th>2006-12-17 20:00:00</th>\n",
       "      <td>201.690</td>\n",
       "      <td>174.504</td>\n",
       "      <td>196.114</td>\n",
       "      <td>147.073417</td>\n",
       "      <td>44.507256</td>\n",
       "      <td>20</td>\n",
       "      <td>6</td>\n",
       "      <td>1</td>\n",
       "    </tr>\n",
       "    <tr>\n",
       "      <th>2006-12-17 21:00:00</th>\n",
       "      <td>182.446</td>\n",
       "      <td>201.690</td>\n",
       "      <td>183.388</td>\n",
       "      <td>147.034167</td>\n",
       "      <td>44.474241</td>\n",
       "      <td>21</td>\n",
       "      <td>6</td>\n",
       "      <td>1</td>\n",
       "    </tr>\n",
       "  </tbody>\n",
       "</table>\n",
       "</div>"
      ],
      "text/plain": [
       "                     Global_active_power    lag_1   lag_24  rolling_mean_24  \\\n",
       "DateTime                                                                      \n",
       "2006-12-17 17:00:00              204.406  199.562  152.024       147.908417   \n",
       "2006-12-17 18:00:00              221.826  204.406  217.932       148.070667   \n",
       "2006-12-17 19:00:00              174.504  221.826  204.014       146.841083   \n",
       "2006-12-17 20:00:00              201.690  174.504  196.114       147.073417   \n",
       "2006-12-17 21:00:00              182.446  201.690  183.388       147.034167   \n",
       "\n",
       "                     rolling_std_24  hour  dayofweek  is_weekend  \n",
       "DateTime                                                          \n",
       "2006-12-17 17:00:00       45.151273    17          6           1  \n",
       "2006-12-17 18:00:00       45.420038    18          6           1  \n",
       "2006-12-17 19:00:00       44.223403    19          6           1  \n",
       "2006-12-17 20:00:00       44.507256    20          6           1  \n",
       "2006-12-17 21:00:00       44.474241    21          6           1  "
      ]
     },
     "execution_count": 183,
     "metadata": {},
     "output_type": "execute_result"
    }
   ],
   "source": [
    "data2.head()"
   ]
  },
  {
   "cell_type": "code",
   "execution_count": 184,
   "metadata": {},
   "outputs": [
    {
     "data": {
      "text/html": [
       "<div>\n",
       "<style scoped>\n",
       "    .dataframe tbody tr th:only-of-type {\n",
       "        vertical-align: middle;\n",
       "    }\n",
       "\n",
       "    .dataframe tbody tr th {\n",
       "        vertical-align: top;\n",
       "    }\n",
       "\n",
       "    .dataframe thead th {\n",
       "        text-align: right;\n",
       "    }\n",
       "</style>\n",
       "<table border=\"1\" class=\"dataframe\">\n",
       "  <thead>\n",
       "    <tr style=\"text-align: right;\">\n",
       "      <th></th>\n",
       "      <th>Global_active_power</th>\n",
       "      <th>lag_1</th>\n",
       "      <th>lag_24</th>\n",
       "      <th>rolling_mean_24</th>\n",
       "      <th>rolling_std_24</th>\n",
       "      <th>hour</th>\n",
       "      <th>dayofweek</th>\n",
       "      <th>is_weekend</th>\n",
       "    </tr>\n",
       "    <tr>\n",
       "      <th>DateTime</th>\n",
       "      <th></th>\n",
       "      <th></th>\n",
       "      <th></th>\n",
       "      <th></th>\n",
       "      <th></th>\n",
       "      <th></th>\n",
       "      <th></th>\n",
       "      <th></th>\n",
       "    </tr>\n",
       "  </thead>\n",
       "  <tbody>\n",
       "    <tr>\n",
       "      <th>2010-11-19 22:00:00</th>\n",
       "      <td>36.118</td>\n",
       "      <td>106.702</td>\n",
       "      <td>55.346</td>\n",
       "      <td>65.796250</td>\n",
       "      <td>33.617727</td>\n",
       "      <td>22</td>\n",
       "      <td>4</td>\n",
       "      <td>0</td>\n",
       "    </tr>\n",
       "    <tr>\n",
       "      <th>2010-11-19 23:00:00</th>\n",
       "      <td>20.052</td>\n",
       "      <td>36.118</td>\n",
       "      <td>28.762</td>\n",
       "      <td>65.433333</td>\n",
       "      <td>34.078762</td>\n",
       "      <td>23</td>\n",
       "      <td>4</td>\n",
       "      <td>0</td>\n",
       "    </tr>\n",
       "    <tr>\n",
       "      <th>2010-11-20 00:00:00</th>\n",
       "      <td>19.018</td>\n",
       "      <td>20.052</td>\n",
       "      <td>20.514</td>\n",
       "      <td>65.371000</td>\n",
       "      <td>34.165753</td>\n",
       "      <td>0</td>\n",
       "      <td>5</td>\n",
       "      <td>1</td>\n",
       "    </tr>\n",
       "    <tr>\n",
       "      <th>2010-11-20 01:00:00</th>\n",
       "      <td>17.094</td>\n",
       "      <td>19.018</td>\n",
       "      <td>16.624</td>\n",
       "      <td>65.390583</td>\n",
       "      <td>34.136719</td>\n",
       "      <td>1</td>\n",
       "      <td>5</td>\n",
       "      <td>1</td>\n",
       "    </tr>\n",
       "    <tr>\n",
       "      <th>2010-11-20 02:00:00</th>\n",
       "      <td>21.402</td>\n",
       "      <td>17.094</td>\n",
       "      <td>57.292</td>\n",
       "      <td>63.895167</td>\n",
       "      <td>35.274080</td>\n",
       "      <td>2</td>\n",
       "      <td>5</td>\n",
       "      <td>1</td>\n",
       "    </tr>\n",
       "    <tr>\n",
       "      <th>...</th>\n",
       "      <td>...</td>\n",
       "      <td>...</td>\n",
       "      <td>...</td>\n",
       "      <td>...</td>\n",
       "      <td>...</td>\n",
       "      <td>...</td>\n",
       "      <td>...</td>\n",
       "      <td>...</td>\n",
       "    </tr>\n",
       "    <tr>\n",
       "      <th>2010-11-26 17:00:00</th>\n",
       "      <td>103.554</td>\n",
       "      <td>64.076</td>\n",
       "      <td>88.806</td>\n",
       "      <td>75.239750</td>\n",
       "      <td>43.607731</td>\n",
       "      <td>17</td>\n",
       "      <td>4</td>\n",
       "      <td>0</td>\n",
       "    </tr>\n",
       "    <tr>\n",
       "      <th>2010-11-26 18:00:00</th>\n",
       "      <td>94.408</td>\n",
       "      <td>103.554</td>\n",
       "      <td>132.696</td>\n",
       "      <td>73.644417</td>\n",
       "      <td>42.088264</td>\n",
       "      <td>18</td>\n",
       "      <td>4</td>\n",
       "      <td>0</td>\n",
       "    </tr>\n",
       "    <tr>\n",
       "      <th>2010-11-26 19:00:00</th>\n",
       "      <td>99.560</td>\n",
       "      <td>94.408</td>\n",
       "      <td>139.828</td>\n",
       "      <td>71.966583</td>\n",
       "      <td>40.090384</td>\n",
       "      <td>19</td>\n",
       "      <td>4</td>\n",
       "      <td>0</td>\n",
       "    </tr>\n",
       "    <tr>\n",
       "      <th>2010-11-26 20:00:00</th>\n",
       "      <td>69.822</td>\n",
       "      <td>99.560</td>\n",
       "      <td>98.870</td>\n",
       "      <td>70.756250</td>\n",
       "      <td>39.679225</td>\n",
       "      <td>20</td>\n",
       "      <td>4</td>\n",
       "      <td>0</td>\n",
       "    </tr>\n",
       "    <tr>\n",
       "      <th>2010-11-26 21:00:00</th>\n",
       "      <td>2.804</td>\n",
       "      <td>69.822</td>\n",
       "      <td>80.576</td>\n",
       "      <td>67.515750</td>\n",
       "      <td>41.952977</td>\n",
       "      <td>21</td>\n",
       "      <td>4</td>\n",
       "      <td>0</td>\n",
       "    </tr>\n",
       "  </tbody>\n",
       "</table>\n",
       "<p>168 rows × 8 columns</p>\n",
       "</div>"
      ],
      "text/plain": [
       "                     Global_active_power    lag_1   lag_24  rolling_mean_24  \\\n",
       "DateTime                                                                      \n",
       "2010-11-19 22:00:00               36.118  106.702   55.346        65.796250   \n",
       "2010-11-19 23:00:00               20.052   36.118   28.762        65.433333   \n",
       "2010-11-20 00:00:00               19.018   20.052   20.514        65.371000   \n",
       "2010-11-20 01:00:00               17.094   19.018   16.624        65.390583   \n",
       "2010-11-20 02:00:00               21.402   17.094   57.292        63.895167   \n",
       "...                                  ...      ...      ...              ...   \n",
       "2010-11-26 17:00:00              103.554   64.076   88.806        75.239750   \n",
       "2010-11-26 18:00:00               94.408  103.554  132.696        73.644417   \n",
       "2010-11-26 19:00:00               99.560   94.408  139.828        71.966583   \n",
       "2010-11-26 20:00:00               69.822   99.560   98.870        70.756250   \n",
       "2010-11-26 21:00:00                2.804   69.822   80.576        67.515750   \n",
       "\n",
       "                     rolling_std_24  hour  dayofweek  is_weekend  \n",
       "DateTime                                                          \n",
       "2010-11-19 22:00:00       33.617727    22          4           0  \n",
       "2010-11-19 23:00:00       34.078762    23          4           0  \n",
       "2010-11-20 00:00:00       34.165753     0          5           1  \n",
       "2010-11-20 01:00:00       34.136719     1          5           1  \n",
       "2010-11-20 02:00:00       35.274080     2          5           1  \n",
       "...                             ...   ...        ...         ...  \n",
       "2010-11-26 17:00:00       43.607731    17          4           0  \n",
       "2010-11-26 18:00:00       42.088264    18          4           0  \n",
       "2010-11-26 19:00:00       40.090384    19          4           0  \n",
       "2010-11-26 20:00:00       39.679225    20          4           0  \n",
       "2010-11-26 21:00:00       41.952977    21          4           0  \n",
       "\n",
       "[168 rows x 8 columns]"
      ]
     },
     "execution_count": 184,
     "metadata": {},
     "output_type": "execute_result"
    }
   ],
   "source": [
    "data2.tail(168)"
   ]
  },
  {
   "cell_type": "code",
   "execution_count": 185,
   "metadata": {},
   "outputs": [],
   "source": [
    "# let's split train test by past and future\n",
    "# Train/test split\n",
    "df_train2 = data2[:-test_hours]\n",
    "df_test2 = data2[-test_hours:]\n",
    "\n",
    "# Features and target\n",
    "X_train2 = df_train2.drop(columns='Global_active_power')\n",
    "y_train2 = df_train2['Global_active_power']\n",
    "X_test2 = df_test2.drop(columns='Global_active_power')\n",
    "y_test2 = df_test2['Global_active_power']"
   ]
  },
  {
   "cell_type": "code",
   "execution_count": 186,
   "metadata": {},
   "outputs": [],
   "source": [
    "# df_train2"
   ]
  },
  {
   "cell_type": "code",
   "execution_count": 187,
   "metadata": {},
   "outputs": [],
   "source": [
    "# df_test2"
   ]
  },
  {
   "cell_type": "code",
   "execution_count": 188,
   "metadata": {},
   "outputs": [],
   "source": [
    "from xgboost import XGBRegressor\n",
    "from sklearn.metrics import mean_squared_error, mean_absolute_error"
   ]
  },
  {
   "cell_type": "code",
   "execution_count": 189,
   "metadata": {},
   "outputs": [],
   "source": [
    "model_XGOptimized = XGBRegressor(n_estimators=100, learning_rate=0.1)\n",
    "model_XGOptimized.fit(X_train2, y_train2)\n",
    "\n",
    "y_pred2 = model_XGOptimized.predict(X_test2)\n"
   ]
  },
  {
   "cell_type": "code",
   "execution_count": 190,
   "metadata": {},
   "outputs": [
    {
     "name": "stdout",
     "output_type": "stream",
     "text": [
      "XGBoostOptimized → RMSE: 32.563, MAE: 21.618, MAPE: 59.99% (filtered, y_true > 0.1)\n"
     ]
    }
   ],
   "source": [
    "evaluate(y_test2, y_pred2, 'XGBoostOptimized')\n"
   ]
  },
  {
   "cell_type": "markdown",
   "metadata": {},
   "source": [
    "Prophet → RMSE: 45.525, MAE: 35.853, MAPE: 131.74% (filtered, y_true > 0.1)\n",
    "XGBoost → RMSE: 35.786, MAE: 23.510, MAPE: 57.32% (filtered, y_true > 0.1)"
   ]
  },
  {
   "cell_type": "code",
   "execution_count": 191,
   "metadata": {},
   "outputs": [
    {
     "data": {
      "text/html": [
       "<div>\n",
       "<style scoped>\n",
       "    .dataframe tbody tr th:only-of-type {\n",
       "        vertical-align: middle;\n",
       "    }\n",
       "\n",
       "    .dataframe tbody tr th {\n",
       "        vertical-align: top;\n",
       "    }\n",
       "\n",
       "    .dataframe thead th {\n",
       "        text-align: right;\n",
       "    }\n",
       "</style>\n",
       "<table border=\"1\" class=\"dataframe\">\n",
       "  <thead>\n",
       "    <tr style=\"text-align: right;\">\n",
       "      <th></th>\n",
       "      <th>Global_active_power</th>\n",
       "      <th>lag_1</th>\n",
       "      <th>lag_24</th>\n",
       "      <th>rolling_mean_24</th>\n",
       "      <th>rolling_std_24</th>\n",
       "      <th>hour</th>\n",
       "      <th>dayofweek</th>\n",
       "      <th>is_weekend</th>\n",
       "    </tr>\n",
       "    <tr>\n",
       "      <th>DateTime</th>\n",
       "      <th></th>\n",
       "      <th></th>\n",
       "      <th></th>\n",
       "      <th></th>\n",
       "      <th></th>\n",
       "      <th></th>\n",
       "      <th></th>\n",
       "      <th></th>\n",
       "    </tr>\n",
       "  </thead>\n",
       "  <tbody>\n",
       "    <tr>\n",
       "      <th>2010-11-19 22:00:00</th>\n",
       "      <td>36.118</td>\n",
       "      <td>106.702</td>\n",
       "      <td>55.346</td>\n",
       "      <td>65.796250</td>\n",
       "      <td>33.617727</td>\n",
       "      <td>22</td>\n",
       "      <td>4</td>\n",
       "      <td>0</td>\n",
       "    </tr>\n",
       "    <tr>\n",
       "      <th>2010-11-19 23:00:00</th>\n",
       "      <td>20.052</td>\n",
       "      <td>36.118</td>\n",
       "      <td>28.762</td>\n",
       "      <td>65.433333</td>\n",
       "      <td>34.078762</td>\n",
       "      <td>23</td>\n",
       "      <td>4</td>\n",
       "      <td>0</td>\n",
       "    </tr>\n",
       "    <tr>\n",
       "      <th>2010-11-20 00:00:00</th>\n",
       "      <td>19.018</td>\n",
       "      <td>20.052</td>\n",
       "      <td>20.514</td>\n",
       "      <td>65.371000</td>\n",
       "      <td>34.165753</td>\n",
       "      <td>0</td>\n",
       "      <td>5</td>\n",
       "      <td>1</td>\n",
       "    </tr>\n",
       "    <tr>\n",
       "      <th>2010-11-20 01:00:00</th>\n",
       "      <td>17.094</td>\n",
       "      <td>19.018</td>\n",
       "      <td>16.624</td>\n",
       "      <td>65.390583</td>\n",
       "      <td>34.136719</td>\n",
       "      <td>1</td>\n",
       "      <td>5</td>\n",
       "      <td>1</td>\n",
       "    </tr>\n",
       "    <tr>\n",
       "      <th>2010-11-20 02:00:00</th>\n",
       "      <td>21.402</td>\n",
       "      <td>17.094</td>\n",
       "      <td>57.292</td>\n",
       "      <td>63.895167</td>\n",
       "      <td>35.274080</td>\n",
       "      <td>2</td>\n",
       "      <td>5</td>\n",
       "      <td>1</td>\n",
       "    </tr>\n",
       "  </tbody>\n",
       "</table>\n",
       "</div>"
      ],
      "text/plain": [
       "                     Global_active_power    lag_1  lag_24  rolling_mean_24  \\\n",
       "DateTime                                                                     \n",
       "2010-11-19 22:00:00               36.118  106.702  55.346        65.796250   \n",
       "2010-11-19 23:00:00               20.052   36.118  28.762        65.433333   \n",
       "2010-11-20 00:00:00               19.018   20.052  20.514        65.371000   \n",
       "2010-11-20 01:00:00               17.094   19.018  16.624        65.390583   \n",
       "2010-11-20 02:00:00               21.402   17.094  57.292        63.895167   \n",
       "\n",
       "                     rolling_std_24  hour  dayofweek  is_weekend  \n",
       "DateTime                                                          \n",
       "2010-11-19 22:00:00       33.617727    22          4           0  \n",
       "2010-11-19 23:00:00       34.078762    23          4           0  \n",
       "2010-11-20 00:00:00       34.165753     0          5           1  \n",
       "2010-11-20 01:00:00       34.136719     1          5           1  \n",
       "2010-11-20 02:00:00       35.274080     2          5           1  "
      ]
     },
     "execution_count": 191,
     "metadata": {},
     "output_type": "execute_result"
    }
   ],
   "source": [
    "df_test2.head()"
   ]
  },
  {
   "cell_type": "code",
   "execution_count": 192,
   "metadata": {},
   "outputs": [
    {
     "data": {
      "image/png": "[encoded data removed]",
      "text/plain": [
       "<Figure size 1500x600 with 1 Axes>"
      ]
     },
     "metadata": {},
     "output_type": "display_data"
    }
   ],
   "source": [
    "# plot forecast vs actual\n",
    "\n",
    "plt.figure(figsize=(15,6))\n",
    "plt.plot(df_test2.index, y_test2, label='Actual', color='black')\n",
    "plt.plot(df_test2.index, y_pred2, label='XGBoost Optimized Forecast', color='blue')\n",
    "plt.title('Actual vs Forecast')\n",
    "plt.xlabel('Date')\n",
    "plt.ylabel('kW')\n",
    "plt.legend()\n",
    "plt.grid(True)\n",
    "plt.tight_layout()\n",
    "\n",
    "\n",
    "# # Add interactive cursor\n",
    "# mplcursors.cursor(hover=True)\n",
    "\n",
    "plt.show()\n"
   ]
  },
  {
   "cell_type": "markdown",
   "metadata": {},
   "source": [
    "####### Try plotly to have the interactive hover effect"
   ]
  },
  {
   "cell_type": "code",
   "execution_count": 193,
   "metadata": {},
   "outputs": [
    {
     "data": {
      "application/vnd.plotly.v1+json": {
       "config": {
        "linkText": "Export to plot.ly",
        "plotlyServerURL": "https://plot.ly",
        "showLink": false
       },
       "data": [
        {
         "line": {
          "color": "black"
         },
         "mode": "lines",
         "name": "Actual",
         "type": "scatter",
         "x": [
          "2010-11-19T22:00:00.000000000",
          "2010-11-19T23:00:00.000000000",
          "2010-11-20T00:00:00.000000000",
          "2010-11-20T01:00:00.000000000",
          "2010-11-20T02:00:00.000000000",
          "2010-11-20T03:00:00.000000000",
          "2010-11-20T04:00:00.000000000",
          "2010-11-20T05:00:00.000000000",
          "2010-11-20T06:00:00.000000000",
          "2010-11-20T07:00:00.000000000",
          "2010-11-20T08:00:00.000000000",
          "2010-11-20T09:00:00.000000000",
          "2010-11-20T10:00:00.000000000",
          "2010-11-20T11:00:00.000000000",
          "2010-11-20T12:00:00.000000000",
          "2010-11-20T13:00:00.000000000",
          "2010-11-20T14:00:00.000000000",
          "2010-11-20T15:00:00.000000000",
          "2010-11-20T16:00:00.000000000",
          "2010-11-20T17:00:00.000000000",
          "2010-11-20T18:00:00.000000000",
          "2010-11-20T19:00:00.000000000",
          "2010-11-20T20:00:00.000000000",
          "2010-11-20T21:00:00.000000000",
          "2010-11-20T22:00:00.000000000",
          "2010-11-20T23:00:00.000000000",
          "2010-11-21T00:00:00.000000000",
          "2010-11-21T01:00:00.000000000",
          "2010-11-21T02:00:00.000000000",
          "2010-11-21T03:00:00.000000000",
          "2010-11-21T04:00:00.000000000",
          "2010-11-21T05:00:00.000000000",
          "2010-11-21T06:00:00.000000000",
          "2010-11-21T07:00:00.000000000",
          "2010-11-21T08:00:00.000000000",
          "2010-11-21T09:00:00.000000000",
          "2010-11-21T10:00:00.000000000",
          "2010-11-21T11:00:00.000000000",
          "2010-11-21T12:00:00.000000000",
          "2010-11-21T13:00:00.000000000",
          "2010-11-21T14:00:00.000000000",
          "2010-11-21T15:00:00.000000000",
          "2010-11-21T16:00:00.000000000",
          "2010-11-21T17:00:00.000000000",
          "2010-11-21T18:00:00.000000000",
          "2010-11-21T19:00:00.000000000",
          "2010-11-21T20:00:00.000000000",
          "2010-11-21T21:00:00.000000000",
          "2010-11-21T22:00:00.000000000",
          "2010-11-21T23:00:00.000000000",
          "2010-11-22T00:00:00.000000000",
          "2010-11-22T01:00:00.000000000",
          "2010-11-22T02:00:00.000000000",
          "2010-11-22T03:00:00.000000000",
          "2010-11-22T04:00:00.000000000",
          "2010-11-22T05:00:00.000000000",
          "2010-11-22T06:00:00.000000000",
          "2010-11-22T07:00:00.000000000",
          "2010-11-22T08:00:00.000000000",
          "2010-11-22T09:00:00.000000000",
          "2010-11-22T10:00:00.000000000",
          "2010-11-22T11:00:00.000000000",
          "2010-11-22T12:00:00.000000000",
          "2010-11-22T13:00:00.000000000",
          "2010-11-22T14:00:00.000000000",
          "2010-11-22T15:00:00.000000000",
          "2010-11-22T16:00:00.000000000",
          "2010-11-22T17:00:00.000000000",
          "2010-11-22T18:00:00.000000000",
          "2010-11-22T19:00:00.000000000",
          "2010-11-22T20:00:00.000000000",
          "2010-11-22T21:00:00.000000000",
          "2010-11-22T22:00:00.000000000",
          "2010-11-22T23:00:00.000000000",
          "2010-11-23T00:00:00.000000000",
          "2010-11-23T01:00:00.000000000",
          "2010-11-23T02:00:00.000000000",
          "2010-11-23T03:00:00.000000000",
          "2010-11-23T04:00:00.000000000",
          "2010-11-23T05:00:00.000000000",
          "2010-11-23T06:00:00.000000000",
          "2010-11-23T07:00:00.000000000",
          "2010-11-23T08:00:00.000000000",
          "2010-11-23T09:00:00.000000000",
          "2010-11-23T10:00:00.000000000",
          "2010-11-23T11:00:00.000000000",
          "2010-11-23T12:00:00.000000000",
          "2010-11-23T13:00:00.000000000",
          "2010-11-23T14:00:00.000000000",
          "2010-11-23T15:00:00.000000000",
          "2010-11-23T16:00:00.000000000",
          "2010-11-23T17:00:00.000000000",
          "2010-11-23T18:00:00.000000000",
          "2010-11-23T19:00:00.000000000",
          "2010-11-23T20:00:00.000000000",
          "2010-11-23T21:00:00.000000000",
          "2010-11-23T22:00:00.000000000",
          "2010-11-23T23:00:00.000000000",
          "2010-11-24T00:00:00.000000000",
          "2010-11-24T01:00:00.000000000",
          "2010-11-24T02:00:00.000000000",
          "2010-11-24T03:00:00.000000000",
          "2010-11-24T04:00:00.000000000",
          "2010-11-24T05:00:00.000000000",
          "2010-11-24T06:00:00.000000000",
          "2010-11-24T07:00:00.000000000",
          "2010-11-24T08:00:00.000000000",
          "2010-11-24T09:00:00.000000000",
          "2010-11-24T10:00:00.000000000",
          "2010-11-24T11:00:00.000000000",
          "2010-11-24T12:00:00.000000000",
          "2010-11-24T13:00:00.000000000",
          "2010-11-24T14:00:00.000000000",
          "2010-11-24T15:00:00.000000000",
          "2010-11-24T16:00:00.000000000",
          "2010-11-24T17:00:00.000000000",
          "2010-11-24T18:00:00.000000000",
          "2010-11-24T19:00:00.000000000",
          "2010-11-24T20:00:00.000000000",
          "2010-11-24T21:00:00.000000000",
          "2010-11-24T22:00:00.000000000",
          "2010-11-24T23:00:00.000000000",
          "2010-11-25T00:00:00.000000000",
          "2010-11-25T01:00:00.000000000",
          "2010-11-25T02:00:00.000000000",
          "2010-11-25T03:00:00.000000000",
          "2010-11-25T04:00:00.000000000",
          "2010-11-25T05:00:00.000000000",
          "2010-11-25T06:00:00.000000000",
          "2010-11-25T07:00:00.000000000",
          "2010-11-25T08:00:00.000000000",
          "2010-11-25T09:00:00.000000000",
          "2010-11-25T10:00:00.000000000",
          "2010-11-25T11:00:00.000000000",
          "2010-11-25T12:00:00.000000000",
          "2010-11-25T13:00:00.000000000",
          "2010-11-25T14:00:00.000000000",
          "2010-11-25T15:00:00.000000000",
          "2010-11-25T16:00:00.000000000",
          "2010-11-25T17:00:00.000000000",
          "2010-11-25T18:00:00.000000000",
          "2010-11-25T19:00:00.000000000",
          "2010-11-25T20:00:00.000000000",
          "2010-11-25T21:00:00.000000000",
          "2010-11-25T22:00:00.000000000",
          "2010-11-25T23:00:00.000000000",
          "2010-11-26T00:00:00.000000000",
          "2010-11-26T01:00:00.000000000",
          "2010-11-26T02:00:00.000000000",
          "2010-11-26T03:00:00.000000000",
          "2010-11-26T04:00:00.000000000",
          "2010-11-26T05:00:00.000000000",
          "2010-11-26T06:00:00.000000000",
          "2010-11-26T07:00:00.000000000",
          "2010-11-26T08:00:00.000000000",
          "2010-11-26T09:00:00.000000000",
          "2010-11-26T10:00:00.000000000",
          "2010-11-26T11:00:00.000000000",
          "2010-11-26T12:00:00.000000000",
          "2010-11-26T13:00:00.000000000",
          "2010-11-26T14:00:00.000000000",
          "2010-11-26T15:00:00.000000000",
          "2010-11-26T16:00:00.000000000",
          "2010-11-26T17:00:00.000000000",
          "2010-11-26T18:00:00.000000000",
          "2010-11-26T19:00:00.000000000",
          "2010-11-26T20:00:00.000000000",
          "2010-11-26T21:00:00.000000000"
         ],
         "y": {
          "bdata": "yXa+nxoPQkBaZDvfTw00QPhT46WbBDNA8tJNYhAYMUD0/dR46WY1QARWDi2ynTJAZDvfT42XM0ACK4cW2Y5KQEa28/3UmEdAfT81XrrBY0BI4XoUrpddQMZLN4lBIFxAbxKDwMphU0Dl0CLb+S5kQC/dJAaB9VBAuB6F61F4U0BeukkMAotPQI/C9Shc31JAxSCwcmjBVkDLoUW28+1aQPYoXI/CGXVAtMh2vp9yaEBvEoPAysFfQAaBlUOLnFpATDeJQWDlU0D8qfHSTeJFQIts5/upMT9AVOOlm8SgMUCBlUOLbOdKQCUGgZVDyzNABoGVQ4usNEDRItv5fmoxQIPAyqFFNjRAbxKDwMoRX0ACK4cW2V5VQHnpJjEIXFNAvHSTGAQWMEAzMzMzM/MxQO58PzVe+jRA6iYxCKycMEDP91PjpdswQNejcD0K1zFAzczMzMwMNUArhxbZzrdFQMUgsHJoETtA7nw/NV66MUD4U+OlmyRCQG8Sg8DKUVJA8tJNYhBoVkBxPQrXozAyQM3MzMzMDDZAmG4Sg8DKMECNl24SgwAxQOXQItv5fjBADAIrhxYZNkCBlUOLbCcxQJ7vp8ZLl0xA16NwPQoHYEBoke18P21jQESLbOf7aVVA/Knx0k1KZ0BCYOXQIstjQBov3SQGAVxAd76fGi/NXUCkcD0K18NWQCPb+X5qzFRAgZVDi2zHREBzaJHtfF9DQEJg5dAiw2dApHA9CtdrY0CwcmiR7bxXQPyp8dJN6mFA7nw/NV56UUCR7Xw/NV4zQClcj8L16DVAsp3vp8aLMUD+1HjpJvEwQLgehetReDBAXI/C9SicNUAdWmQ7388wQN9PjZduEkNAWmQ7308dY0BWDi2ynY9ZQN9PjZduAlVAzczMzMyMV0CsHFpkO49ZQJqZmZmZeU9AokW28/30SECXbhKDwDpXQAAAAAAAADhAdZMYBFaOPkDqJjEIrFxNQESLbOf7mVtAVOOlm8SoYEBmZmZmZsZjQNv5fmq8ZFVAlkOLbOf7SEAEVg4tsv1BQI2XbhKDgDVAvXSTGATWL0DHSzeJQSA+QLbz/dR4iUZAK4cW2c43M0Cq8dJNYhAxQFg5tMh23khAnMQgsHJgZUAAAAAAAFBXQNnO91PjdVRAEFg5tMiWVECmm8QgsOJUQIts5/upwVdA7nw/NV5qXUBOYhBYOUReQCuHFtnOh1ZARrbz/dQ4SkAv3SQGgRVdQJhuEoPA6l5A8KfGSzd5VkBiEFg5tFhhQEoMAiuHhldA+n5qvHRTOUBWDi2ynS81QGmR7Xw/NTJA4XoUrkdhMUAQWDm0yPYvQL6fGi/dJDRAObTIdr6fNkDRItv5fmpKQEw3iUFg5UxAarx0kxi0Y0A3iUFg5XBYQCGwcmiR3VJAd76fGi9dQ0BkO99PjddOQJZDi2zn+z1AObTIdr5fNUAK16NwPQoyQHsUrkfh+jNAGy/dJAZBQEDdJAaBlTNWQIPAyqFFlmBA0SLb+X56YUBI4XoUrrdYQL6fGi/dJFRALbKd76e2UkD2KFyPwrVMQJzEILByqDFAXI/C9SjcMEAOLbKd72cwQPT91Hjp5jFAZDvfT43XMkBOYhBYOfQwQBfZzvdTQ05A/tR46SahZUBaZDvfT/1dQB1aZDvfv1tAtMh2vp9KVEBMN4lBYBVUQO58PzVeWlZAi2zn+6kxWEDo+6nx0h1VQF66SQwCS0pAvp8aL90EUED6fmq8dONZQCcxCKwcmldApHA9CtfjWED4U+Olm3RRQDzfT42XbgZA",
          "dtype": "f8"
         }
        },
        {
         "line": {
          "color": "green"
         },
         "mode": "lines",
         "name": "XGOpt Forecast",
         "type": "scatter",
         "x": [
          "2010-11-19T22:00:00.000000000",
          "2010-11-19T23:00:00.000000000",
          "2010-11-20T00:00:00.000000000",
          "2010-11-20T01:00:00.000000000",
          "2010-11-20T02:00:00.000000000",
          "2010-11-20T03:00:00.000000000",
          "2010-11-20T04:00:00.000000000",
          "2010-11-20T05:00:00.000000000",
          "2010-11-20T06:00:00.000000000",
          "2010-11-20T07:00:00.000000000",
          "2010-11-20T08:00:00.000000000",
          "2010-11-20T09:00:00.000000000",
          "2010-11-20T10:00:00.000000000",
          "2010-11-20T11:00:00.000000000",
          "2010-11-20T12:00:00.000000000",
          "2010-11-20T13:00:00.000000000",
          "2010-11-20T14:00:00.000000000",
          "2010-11-20T15:00:00.000000000",
          "2010-11-20T16:00:00.000000000",
          "2010-11-20T17:00:00.000000000",
          "2010-11-20T18:00:00.000000000",
          "2010-11-20T19:00:00.000000000",
          "2010-11-20T20:00:00.000000000",
          "2010-11-20T21:00:00.000000000",
          "2010-11-20T22:00:00.000000000",
          "2010-11-20T23:00:00.000000000",
          "2010-11-21T00:00:00.000000000",
          "2010-11-21T01:00:00.000000000",
          "2010-11-21T02:00:00.000000000",
          "2010-11-21T03:00:00.000000000",
          "2010-11-21T04:00:00.000000000",
          "2010-11-21T05:00:00.000000000",
          "2010-11-21T06:00:00.000000000",
          "2010-11-21T07:00:00.000000000",
          "2010-11-21T08:00:00.000000000",
          "2010-11-21T09:00:00.000000000",
          "2010-11-21T10:00:00.000000000",
          "2010-11-21T11:00:00.000000000",
          "2010-11-21T12:00:00.000000000",
          "2010-11-21T13:00:00.000000000",
          "2010-11-21T14:00:00.000000000",
          "2010-11-21T15:00:00.000000000",
          "2010-11-21T16:00:00.000000000",
          "2010-11-21T17:00:00.000000000",
          "2010-11-21T18:00:00.000000000",
          "2010-11-21T19:00:00.000000000",
          "2010-11-21T20:00:00.000000000",
          "2010-11-21T21:00:00.000000000",
          "2010-11-21T22:00:00.000000000",
          "2010-11-21T23:00:00.000000000",
          "2010-11-22T00:00:00.000000000",
          "2010-11-22T01:00:00.000000000",
          "2010-11-22T02:00:00.000000000",
          "2010-11-22T03:00:00.000000000",
          "2010-11-22T04:00:00.000000000",
          "2010-11-22T05:00:00.000000000",
          "2010-11-22T06:00:00.000000000",
          "2010-11-22T07:00:00.000000000",
          "2010-11-22T08:00:00.000000000",
          "2010-11-22T09:00:00.000000000",
          "2010-11-22T10:00:00.000000000",
          "2010-11-22T11:00:00.000000000",
          "2010-11-22T12:00:00.000000000",
          "2010-11-22T13:00:00.000000000",
          "2010-11-22T14:00:00.000000000",
          "2010-11-22T15:00:00.000000000",
          "2010-11-22T16:00:00.000000000",
          "2010-11-22T17:00:00.000000000",
          "2010-11-22T18:00:00.000000000",
          "2010-11-22T19:00:00.000000000",
          "2010-11-22T20:00:00.000000000",
          "2010-11-22T21:00:00.000000000",
          "2010-11-22T22:00:00.000000000",
          "2010-11-22T23:00:00.000000000",
          "2010-11-23T00:00:00.000000000",
          "2010-11-23T01:00:00.000000000",
          "2010-11-23T02:00:00.000000000",
          "2010-11-23T03:00:00.000000000",
          "2010-11-23T04:00:00.000000000",
          "2010-11-23T05:00:00.000000000",
          "2010-11-23T06:00:00.000000000",
          "2010-11-23T07:00:00.000000000",
          "2010-11-23T08:00:00.000000000",
          "2010-11-23T09:00:00.000000000",
          "2010-11-23T10:00:00.000000000",
          "2010-11-23T11:00:00.000000000",
          "2010-11-23T12:00:00.000000000",
          "2010-11-23T13:00:00.000000000",
          "2010-11-23T14:00:00.000000000",
          "2010-11-23T15:00:00.000000000",
          "2010-11-23T16:00:00.000000000",
          "2010-11-23T17:00:00.000000000",
          "2010-11-23T18:00:00.000000000",
          "2010-11-23T19:00:00.000000000",
          "2010-11-23T20:00:00.000000000",
          "2010-11-23T21:00:00.000000000",
          "2010-11-23T22:00:00.000000000",
          "2010-11-23T23:00:00.000000000",
          "2010-11-24T00:00:00.000000000",
          "2010-11-24T01:00:00.000000000",
          "2010-11-24T02:00:00.000000000",
          "2010-11-24T03:00:00.000000000",
          "2010-11-24T04:00:00.000000000",
          "2010-11-24T05:00:00.000000000",
          "2010-11-24T06:00:00.000000000",
          "2010-11-24T07:00:00.000000000",
          "2010-11-24T08:00:00.000000000",
          "2010-11-24T09:00:00.000000000",
          "2010-11-24T10:00:00.000000000",
          "2010-11-24T11:00:00.000000000",
          "2010-11-24T12:00:00.000000000",
          "2010-11-24T13:00:00.000000000",
          "2010-11-24T14:00:00.000000000",
          "2010-11-24T15:00:00.000000000",
          "2010-11-24T16:00:00.000000000",
          "2010-11-24T17:00:00.000000000",
          "2010-11-24T18:00:00.000000000",
          "2010-11-24T19:00:00.000000000",
          "2010-11-24T20:00:00.000000000",
          "2010-11-24T21:00:00.000000000",
          "2010-11-24T22:00:00.000000000",
          "2010-11-24T23:00:00.000000000",
          "2010-11-25T00:00:00.000000000",
          "2010-11-25T01:00:00.000000000",
          "2010-11-25T02:00:00.000000000",
          "2010-11-25T03:00:00.000000000",
          "2010-11-25T04:00:00.000000000",
          "2010-11-25T05:00:00.000000000",
          "2010-11-25T06:00:00.000000000",
          "2010-11-25T07:00:00.000000000",
          "2010-11-25T08:00:00.000000000",
          "2010-11-25T09:00:00.000000000",
          "2010-11-25T10:00:00.000000000",
          "2010-11-25T11:00:00.000000000",
          "2010-11-25T12:00:00.000000000",
          "2010-11-25T13:00:00.000000000",
          "2010-11-25T14:00:00.000000000",
          "2010-11-25T15:00:00.000000000",
          "2010-11-25T16:00:00.000000000",
          "2010-11-25T17:00:00.000000000",
          "2010-11-25T18:00:00.000000000",
          "2010-11-25T19:00:00.000000000",
          "2010-11-25T20:00:00.000000000",
          "2010-11-25T21:00:00.000000000",
          "2010-11-25T22:00:00.000000000",
          "2010-11-25T23:00:00.000000000",
          "2010-11-26T00:00:00.000000000",
          "2010-11-26T01:00:00.000000000",
          "2010-11-26T02:00:00.000000000",
          "2010-11-26T03:00:00.000000000",
          "2010-11-26T04:00:00.000000000",
          "2010-11-26T05:00:00.000000000",
          "2010-11-26T06:00:00.000000000",
          "2010-11-26T07:00:00.000000000",
          "2010-11-26T08:00:00.000000000",
          "2010-11-26T09:00:00.000000000",
          "2010-11-26T10:00:00.000000000",
          "2010-11-26T11:00:00.000000000",
          "2010-11-26T12:00:00.000000000",
          "2010-11-26T13:00:00.000000000",
          "2010-11-26T14:00:00.000000000",
          "2010-11-26T15:00:00.000000000",
          "2010-11-26T16:00:00.000000000",
          "2010-11-26T17:00:00.000000000",
          "2010-11-26T18:00:00.000000000",
          "2010-11-26T19:00:00.000000000",
          "2010-11-26T20:00:00.000000000",
          "2010-11-26T21:00:00.000000000"
         ],
         "y": {
          "bdata": "5byYQpqj7EHGM9xB4XDHQQYRukG0C89Beh3OQZXD00ESMilCd+bzQpWZz0KtuNFCoMjFQvhLpEK3I+JCOuqqQoIyqEJwsI1CVY6UQkU7xEI15SlDz19dQ+ZNUkO2ECtDHk7xQiKpckJ9yeNBjWvgQW+dnUEal/BBi1axQepVv0E7C+hBLNQEQk717kL9I8NCmfK2QmzFGEI9XD9CCZRNQmr0J0KF9hpCINICQk3kFUKihaRCNrNOQtog30E4SnlCsM2HQsctYkKyl6hBw/2yQeaHnkGcc6VBPEWsQbj6wEEyeQNC42HEQuYQxkL9ybZCxROXQrXt5EITUPpC72a/Qmg0vEL1cqZC1lSQQljQVUJMwXhCQoEiQ4apJkPBPfVC1G/FQvrFGELkdLVBnqGyQXmnokG/MqJBQ9yvQRc2x0EYmGlC8FkCQ28K8kJU2M1Cd5etQh/etUK8j79CZpJnQoA9XULZS7RC7acmQhXBR0IcA69CCrMBQ3YZBkMJQv5CUByeQq+i9UFJ9u5BUFW+QXQkrUE+1+tB/TvtQdH2x0ENsmRCuE0BQ2Mc5kLoeLpC7segQidIp0JTOqNC0wuuQsblzEIiIsFCh9WdQlXnfUIYA/RCcLz4QpK55UKOi/BCInKkQheB50HmirxBsUuvQStUnkGdkadBlBW7QbxU10HioU9C6wQGQymF2kIL/r9CxKGMQnE/XEIqrHtCA7gYQvQN6EG2h7RB3mHeQVn6KkJbotRC44QGQ8Wg90L2wflCAueSQml4M0IMed5BxdupQU8AqkF6OqpBYlW0QTRAx0H/3GBChgvsQsIu4ULdisRCfPO7Qkevk0JThI5C0kmyQo+CtELhSpNCxmhQQoPgk0KEXNtC6KPVQnfizELVFrZC",
          "dtype": "f4"
         }
        }
       ],
       "layout": {
        "hovermode": "x unified",
        "template": {
         "data": {
          "bar": [
           {
            "error_x": {
             "color": "#2a3f5f"
            },
            "error_y": {
             "color": "#2a3f5f"
            },
            "marker": {
             "line": {
              "color": "#E5ECF6",
              "width": 0.5
             },
             "pattern": {
              "fillmode": "overlay",
              "size": 10,
              "solidity": 0.2
             }
            },
            "type": "bar"
           }
          ],
          "barpolar": [
           {
            "marker": {
             "line": {
              "color": "#E5ECF6",
              "width": 0.5
             },
             "pattern": {
              "fillmode": "overlay",
              "size": 10,
              "solidity": 0.2
             }
            },
            "type": "barpolar"
           }
          ],
          "carpet": [
           {
            "aaxis": {
             "endlinecolor": "#2a3f5f",
             "gridcolor": "white",
             "linecolor": "white",
             "minorgridcolor": "white",
             "startlinecolor": "#2a3f5f"
            },
            "baxis": {
             "endlinecolor": "#2a3f5f",
             "gridcolor": "white",
             "linecolor": "white",
             "minorgridcolor": "white",
             "startlinecolor": "#2a3f5f"
            },
            "type": "carpet"
           }
          ],
          "choropleth": [
           {
            "colorbar": {
             "outlinewidth": 0,
             "ticks": ""
            },
            "type": "choropleth"
           }
          ],
          "contour": [
           {
            "colorbar": {
             "outlinewidth": 0,
             "ticks": ""
            },
            "colorscale": [
             [
              0,
              "#0d0887"
             ],
             [
              0.1111111111111111,
              "#46039f"
             ],
             [
              0.2222222222222222,
              "#7201a8"
             ],
             [
              0.3333333333333333,
              "#9c179e"
             ],
             [
              0.4444444444444444,
              "#bd3786"
             ],
             [
              0.5555555555555556,
              "#d8576b"
             ],
             [
              0.6666666666666666,
              "#ed7953"
             ],
             [
              0.7777777777777778,
              "#fb9f3a"
             ],
             [
              0.8888888888888888,
              "#fdca26"
             ],
             [
              1,
              "#f0f921"
             ]
            ],
            "type": "contour"
           }
          ],
          "contourcarpet": [
           {
            "colorbar": {
             "outlinewidth": 0,
             "ticks": ""
            },
            "type": "contourcarpet"
           }
          ],
          "heatmap": [
           {
            "colorbar": {
             "outlinewidth": 0,
             "ticks": ""
            },
            "colorscale": [
             [
              0,
              "#0d0887"
             ],
             [
              0.1111111111111111,
              "#46039f"
             ],
             [
              0.2222222222222222,
              "#7201a8"
             ],
             [
              0.3333333333333333,
              "#9c179e"
             ],
             [
              0.4444444444444444,
              "#bd3786"
             ],
             [
              0.5555555555555556,
              "#d8576b"
             ],
             [
              0.6666666666666666,
              "#ed7953"
             ],
             [
              0.7777777777777778,
              "#fb9f3a"
             ],
             [
              0.8888888888888888,
              "#fdca26"
             ],
             [
              1,
              "#f0f921"
             ]
            ],
            "type": "heatmap"
           }
          ],
          "histogram": [
           {
            "marker": {
             "pattern": {
              "fillmode": "overlay",
              "size": 10,
              "solidity": 0.2
             }
            },
            "type": "histogram"
           }
          ],
          "histogram2d": [
           {
            "colorbar": {
             "outlinewidth": 0,
             "ticks": ""
            },
            "colorscale": [
             [
              0,
              "#0d0887"
             ],
             [
              0.1111111111111111,
              "#46039f"
             ],
             [
              0.2222222222222222,
              "#7201a8"
             ],
             [
              0.3333333333333333,
              "#9c179e"
             ],
             [
              0.4444444444444444,
              "#bd3786"
             ],
             [
              0.5555555555555556,
              "#d8576b"
             ],
             [
              0.6666666666666666,
              "#ed7953"
             ],
             [
              0.7777777777777778,
              "#fb9f3a"
             ],
             [
              0.8888888888888888,
              "#fdca26"
             ],
             [
              1,
              "#f0f921"
             ]
            ],
            "type": "histogram2d"
           }
          ],
          "histogram2dcontour": [
           {
            "colorbar": {
             "outlinewidth": 0,
             "ticks": ""
            },
            "colorscale": [
             [
              0,
              "#0d0887"
             ],
             [
              0.1111111111111111,
              "#46039f"
             ],
             [
              0.2222222222222222,
              "#7201a8"
             ],
             [
              0.3333333333333333,
              "#9c179e"
             ],
             [
              0.4444444444444444,
              "#bd3786"
             ],
             [
              0.5555555555555556,
              "#d8576b"
             ],
             [
              0.6666666666666666,
              "#ed7953"
             ],
             [
              0.7777777777777778,
              "#fb9f3a"
             ],
             [
              0.8888888888888888,
              "#fdca26"
             ],
             [
              1,
              "#f0f921"
             ]
            ],
            "type": "histogram2dcontour"
           }
          ],
          "mesh3d": [
           {
            "colorbar": {
             "outlinewidth": 0,
             "ticks": ""
            },
            "type": "mesh3d"
           }
          ],
          "parcoords": [
           {
            "line": {
             "colorbar": {
              "outlinewidth": 0,
              "ticks": ""
             }
            },
            "type": "parcoords"
           }
          ],
          "pie": [
           {
            "automargin": true,
            "type": "pie"
           }
          ],
          "scatter": [
           {
            "fillpattern": {
             "fillmode": "overlay",
             "size": 10,
             "solidity": 0.2
            },
            "type": "scatter"
           }
          ],
          "scatter3d": [
           {
            "line": {
             "colorbar": {
              "outlinewidth": 0,
              "ticks": ""
             }
            },
            "marker": {
             "colorbar": {
              "outlinewidth": 0,
              "ticks": ""
             }
            },
            "type": "scatter3d"
           }
          ],
          "scattercarpet": [
           {
            "marker": {
             "colorbar": {
              "outlinewidth": 0,
              "ticks": ""
             }
            },
            "type": "scattercarpet"
           }
          ],
          "scattergeo": [
           {
            "marker": {
             "colorbar": {
              "outlinewidth": 0,
              "ticks": ""
             }
            },
            "type": "scattergeo"
           }
          ],
          "scattergl": [
           {
            "marker": {
             "colorbar": {
              "outlinewidth": 0,
              "ticks": ""
             }
            },
            "type": "scattergl"
           }
          ],
          "scattermap": [
           {
            "marker": {
             "colorbar": {
              "outlinewidth": 0,
              "ticks": ""
             }
            },
            "type": "scattermap"
           }
          ],
          "scattermapbox": [
           {
            "marker": {
             "colorbar": {
              "outlinewidth": 0,
              "ticks": ""
             }
            },
            "type": "scattermapbox"
           }
          ],
          "scatterpolar": [
           {
            "marker": {
             "colorbar": {
              "outlinewidth": 0,
              "ticks": ""
             }
            },
            "type": "scatterpolar"
           }
          ],
          "scatterpolargl": [
           {
            "marker": {
             "colorbar": {
              "outlinewidth": 0,
              "ticks": ""
             }
            },
            "type": "scatterpolargl"
           }
          ],
          "scatterternary": [
           {
            "marker": {
             "colorbar": {
              "outlinewidth": 0,
              "ticks": ""
             }
            },
            "type": "scatterternary"
           }
          ],
          "surface": [
           {
            "colorbar": {
             "outlinewidth": 0,
             "ticks": ""
            },
            "colorscale": [
             [
              0,
              "#0d0887"
             ],
             [
              0.1111111111111111,
              "#46039f"
             ],
             [
              0.2222222222222222,
              "#7201a8"
             ],
             [
              0.3333333333333333,
              "#9c179e"
             ],
             [
              0.4444444444444444,
              "#bd3786"
             ],
             [
              0.5555555555555556,
              "#d8576b"
             ],
             [
              0.6666666666666666,
              "#ed7953"
             ],
             [
              0.7777777777777778,
              "#fb9f3a"
             ],
             [
              0.8888888888888888,
              "#fdca26"
             ],
             [
              1,
              "#f0f921"
             ]
            ],
            "type": "surface"
           }
          ],
          "table": [
           {
            "cells": {
             "fill": {
              "color": "#EBF0F8"
             },
             "line": {
              "color": "white"
             }
            },
            "header": {
             "fill": {
              "color": "#C8D4E3"
             },
             "line": {
              "color": "white"
             }
            },
            "type": "table"
           }
          ]
         },
         "layout": {
          "annotationdefaults": {
           "arrowcolor": "#2a3f5f",
           "arrowhead": 0,
           "arrowwidth": 1
          },
          "autotypenumbers": "strict",
          "coloraxis": {
           "colorbar": {
            "outlinewidth": 0,
            "ticks": ""
           }
          },
          "colorscale": {
           "diverging": [
            [
             0,
             "#8e0152"
            ],
            [
             0.1,
             "#c51b7d"
            ],
            [
             0.2,
             "#de77ae"
            ],
            [
             0.3,
             "#f1b6da"
            ],
            [
             0.4,
             "#fde0ef"
            ],
            [
             0.5,
             "#f7f7f7"
            ],
            [
             0.6,
             "#e6f5d0"
            ],
            [
             0.7,
             "#b8e186"
            ],
            [
             0.8,
             "#7fbc41"
            ],
            [
             0.9,
             "#4d9221"
            ],
            [
             1,
             "#276419"
            ]
           ],
           "sequential": [
            [
             0,
             "#0d0887"
            ],
            [
             0.1111111111111111,
             "#46039f"
            ],
            [
             0.2222222222222222,
             "#7201a8"
            ],
            [
             0.3333333333333333,
             "#9c179e"
            ],
            [
             0.4444444444444444,
             "#bd3786"
            ],
            [
             0.5555555555555556,
             "#d8576b"
            ],
            [
             0.6666666666666666,
             "#ed7953"
            ],
            [
             0.7777777777777778,
             "#fb9f3a"
            ],
            [
             0.8888888888888888,
             "#fdca26"
            ],
            [
             1,
             "#f0f921"
            ]
           ],
           "sequentialminus": [
            [
             0,
             "#0d0887"
            ],
            [
             0.1111111111111111,
             "#46039f"
            ],
            [
             0.2222222222222222,
             "#7201a8"
            ],
            [
             0.3333333333333333,
             "#9c179e"
            ],
            [
             0.4444444444444444,
             "#bd3786"
            ],
            [
             0.5555555555555556,
             "#d8576b"
            ],
            [
             0.6666666666666666,
             "#ed7953"
            ],
            [
             0.7777777777777778,
             "#fb9f3a"
            ],
            [
             0.8888888888888888,
             "#fdca26"
            ],
            [
             1,
             "#f0f921"
            ]
           ]
          },
          "colorway": [
           "#636efa",
           "#EF553B",
           "#00cc96",
           "#ab63fa",
           "#FFA15A",
           "#19d3f3",
           "#FF6692",
           "#B6E880",
           "#FF97FF",
           "#FECB52"
          ],
          "font": {
           "color": "#2a3f5f"
          },
          "geo": {
           "bgcolor": "white",
           "lakecolor": "white",
           "landcolor": "#E5ECF6",
           "showlakes": true,
           "showland": true,
           "subunitcolor": "white"
          },
          "hoverlabel": {
           "align": "left"
          },
          "hovermode": "closest",
          "mapbox": {
           "style": "light"
          },
          "paper_bgcolor": "white",
          "plot_bgcolor": "#E5ECF6",
          "polar": {
           "angularaxis": {
            "gridcolor": "white",
            "linecolor": "white",
            "ticks": ""
           },
           "bgcolor": "#E5ECF6",
           "radialaxis": {
            "gridcolor": "white",
            "linecolor": "white",
            "ticks": ""
           }
          },
          "scene": {
           "xaxis": {
            "backgroundcolor": "#E5ECF6",
            "gridcolor": "white",
            "gridwidth": 2,
            "linecolor": "white",
            "showbackground": true,
            "ticks": "",
            "zerolinecolor": "white"
           },
           "yaxis": {
            "backgroundcolor": "#E5ECF6",
            "gridcolor": "white",
            "gridwidth": 2,
            "linecolor": "white",
            "showbackground": true,
            "ticks": "",
            "zerolinecolor": "white"
           },
           "zaxis": {
            "backgroundcolor": "#E5ECF6",
            "gridcolor": "white",
            "gridwidth": 2,
            "linecolor": "white",
            "showbackground": true,
            "ticks": "",
            "zerolinecolor": "white"
           }
          },
          "shapedefaults": {
           "line": {
            "color": "#2a3f5f"
           }
          },
          "ternary": {
           "aaxis": {
            "gridcolor": "white",
            "linecolor": "white",
            "ticks": ""
           },
           "baxis": {
            "gridcolor": "white",
            "linecolor": "white",
            "ticks": ""
           },
           "bgcolor": "#E5ECF6",
           "caxis": {
            "gridcolor": "white",
            "linecolor": "white",
            "ticks": ""
           }
          },
          "title": {
           "x": 0.05
          },
          "xaxis": {
           "automargin": true,
           "gridcolor": "white",
           "linecolor": "white",
           "ticks": "",
           "title": {
            "standoff": 15
           },
           "zerolinecolor": "white",
           "zerolinewidth": 2
          },
          "yaxis": {
           "automargin": true,
           "gridcolor": "white",
           "linecolor": "white",
           "ticks": "",
           "title": {
            "standoff": 15
           },
           "zerolinecolor": "white",
           "zerolinewidth": 2
          }
         }
        },
        "title": {
         "text": "Actual vs Forecast"
        },
        "xaxis": {
         "title": {
          "text": "Date"
         }
        },
        "yaxis": {
         "title": {
          "text": "kW"
         }
        }
       }
      }
     },
     "metadata": {},
     "output_type": "display_data"
    }
   ],
   "source": [
    "import plotly.graph_objs as go\n",
    "import plotly.offline as pyo\n",
    "\n",
    "trace_actual = go.Scatter(\n",
    "    x=df_test.index, y=y_test2,\n",
    "    mode='lines',\n",
    "    name='Actual',\n",
    "    line=dict(color='black')\n",
    ")\n",
    "trace_pred = go.Scatter(\n",
    "    x=df_test.index, y=y_pred2,\n",
    "    mode='lines',\n",
    "    name='XGOpt Forecast',\n",
    "    line=dict(color='green')\n",
    ")\n",
    "\n",
    "layout = go.Layout(\n",
    "    title='Actual vs Forecast',\n",
    "    xaxis=dict(title='Date'),\n",
    "    yaxis=dict(title='kW'),\n",
    "    hovermode='x unified'\n",
    ")\n",
    "\n",
    "fig = go.Figure(data=[trace_actual, trace_pred], layout=layout)\n",
    "pyo.iplot(fig)  # Use .show() if not in Jupyter"
   ]
  },
  {
   "cell_type": "markdown",
   "metadata": {},
   "source": []
  },
  {
   "cell_type": "markdown",
   "metadata": {},
   "source": [
    "##### Wrap to a function so we can quickly tweak the testhours"
   ]
  },
  {
   "cell_type": "code",
   "execution_count": 195,
   "metadata": {},
   "outputs": [],
   "source": [
    "import matplotlib.pyplot as plt\n",
    "import numpy as np\n",
    "from sklearn.metrics import mean_squared_error, mean_absolute_error\n",
    "from xgboost import XGBRegressor\n",
    "\n",
    "def test_xgboost_forecast(data, test_hours=168):\n",
    "    \"\"\"\n",
    "    Splits data into train/test, fits XGBoost, predicts, evaluates, and plots results.\n",
    "    Args:\n",
    "        data: DataFrame with features and 'Global_active_power' as target, indexed by DateTime.\n",
    "        test_hours: Number of hours for the test set (int)\n",
    "    \"\"\"\n",
    "    # 1. Train/test split\n",
    "    df_train = data[:-test_hours]\n",
    "    df_test = data[-test_hours:]\n",
    "    X_train = df_train.drop(columns='Global_active_power')\n",
    "    y_train = df_train['Global_active_power']\n",
    "    X_test = df_test.drop(columns='Global_active_power')\n",
    "    y_test = df_test['Global_active_power']\n",
    "\n",
    "    # 2. Fit XGBoost\n",
    "    model = XGBRegressor(n_estimators=100, learning_rate=0.1)\n",
    "    model.fit(X_train, y_train)\n",
    "    y_pred = model.predict(X_test)\n",
    "\n",
    "    # 3. Evaluate\n",
    "    def evaluate(y_true, y_pred):\n",
    "        y_true = np.array(y_true).flatten()\n",
    "        y_pred = np.array(y_pred).flatten()\n",
    "        if len(y_true) != len(y_pred):\n",
    "            raise ValueError(f\"y_true and y_pred must have the same length (got {len(y_true)} and {len(y_pred)})\")\n",
    "        rmse = np.sqrt(mean_squared_error(y_true, y_pred))\n",
    "        mae = mean_absolute_error(y_true, y_pred)\n",
    "        mask = y_true > 0.1\n",
    "        if np.sum(mask) == 0:\n",
    "            mape = np.nan\n",
    "        else:\n",
    "            mape = np.mean(np.abs((y_true[mask] - y_pred[mask]) / y_true[mask])) * 100\n",
    "        print(f'XGBoost → RMSE: {rmse:.3f}, MAE: {mae:.3f}, MAPE: {mape:.2f}% (filtered, y_true > 0.1)')\n",
    "        return rmse, mae, mape\n",
    "\n",
    "    rmse, mae, mape = evaluate(y_test, y_pred)\n",
    "\n",
    "    # 4. Plot\n",
    "    plt.figure(figsize=(15,6))\n",
    "    plt.plot(df_test.index, y_test, label='Actual', color='black')\n",
    "    plt.plot(df_test.index, y_pred, label='XGBoost Forecast', color='blue')\n",
    "    plt.title(f'Actual vs XGBoost Forecast (Test Hours: {test_hours})')\n",
    "    plt.xlabel('Date')\n",
    "    plt.ylabel('kW')\n",
    "    plt.legend()\n",
    "    plt.grid(True)\n",
    "    plt.tight_layout()\n",
    "    plt.show()\n",
    "    return rmse, mae, mape, y_test, y_pred\n",
    "\n",
    "# Example usage:\n",
    "# test_xgboost_forecast(data2, test_hours=168)"
   ]
  },
  {
   "cell_type": "code",
   "execution_count": null,
   "metadata": {},
   "outputs": [
    {
     "name": "stdout",
     "output_type": "stream",
     "text": [
      "XGBoost → RMSE: 30.866, MAE: 20.190, MAPE: 47.41% (filtered, y_true > 0.1)\n"
     ]
    },
    {
     "data": {
      "image/png": "[encoded data removed]",
      "text/plain": [
       "<Figure size 1500x600 with 1 Axes>"
      ]
     },
     "metadata": {},
     "output_type": "display_data"
    },
    {
     "data": {
      "text/plain": [
       "(30.86591956349892,\n",
       " 20.190418766112554,\n",
       " 47.412251457777145,\n",
       " DateTime\n",
       " 2010-11-12 22:00:00     19.232\n",
       " 2010-11-12 23:00:00     38.392\n",
       " 2010-11-13 00:00:00     41.462\n",
       " 2010-11-13 01:00:00     50.886\n",
       " 2010-11-13 02:00:00     18.564\n",
       "                         ...   \n",
       " 2010-11-26 17:00:00    103.554\n",
       " 2010-11-26 18:00:00     94.408\n",
       " 2010-11-26 19:00:00     99.560\n",
       " 2010-11-26 20:00:00     69.822\n",
       " 2010-11-26 21:00:00      2.804\n",
       " Freq: h, Name: Global_active_power, Length: 336, dtype: float64,\n",
       " array([ 64.73627 ,  27.955824,  28.405188,  30.589859,  28.27761 ,\n",
       "         21.834465,  21.074389,  24.671999,  42.88536 , 132.60359 ,\n",
       "        114.54506 ,  95.58868 ,  71.16966 ,  53.54156 ,  81.098114,\n",
       "         78.24594 , 108.95613 , 115.97945 , 111.80454 , 132.1989  ,\n",
       "        146.38892 , 132.91087 , 139.83337 , 120.93389 , 107.28184 ,\n",
       "         95.88241 ,  71.85749 ,  74.61307 ,  68.88394 ,  36.416595,\n",
       "         31.032793,  25.47398 ,  35.69077 ,  33.63717 ,  48.06901 ,\n",
       "         65.20041 ,  79.87349 ,  86.46125 ,  82.02061 ,  92.84413 ,\n",
       "         83.639946,  91.34604 , 121.56664 , 129.46196 , 166.62993 ,\n",
       "        152.83237 , 128.09142 , 152.08882 ,  86.90928 ,  56.024582,\n",
       "         19.852398,  16.520332,  19.16089 ,  21.164993,  29.21308 ,\n",
       "         30.287266,  50.323074, 122.97166 , 117.7815  ,  93.46622 ,\n",
       "         80.70368 ,  73.90536 ,  79.86151 , 138.28972 , 126.54264 ,\n",
       "         22.293514,  27.145084,  46.699085,  87.85169 , 121.71778 ,\n",
       "        146.84077 , 162.2678  ,  84.64468 ,  37.513615,  27.576956,\n",
       "         22.018301,  20.535717,  30.196636,  21.5809  ,  22.211002,\n",
       "         60.833385, 139.7727  , 122.81002 ,  98.405205,  95.90074 ,\n",
       "         89.596954,  49.33046 ,  32.72818 ,  27.359652,  23.235449,\n",
       "         24.43353 ,  46.409523,  87.58471 , 129.5743  , 119.16233 ,\n",
       "        131.05064 , 100.82569 ,  26.228369,  28.189812,  23.203745,\n",
       "         23.82369 ,  22.067316,  22.600706,  29.154448,  61.694035,\n",
       "        120.479164, 113.67563 ,  82.60627 ,  70.789024,  77.866585,\n",
       "         78.65966 ,  84.50701 ,  49.77025 ,  23.481024,  40.332   ,\n",
       "         63.2384  ,  92.381454, 132.8822  , 133.49025 , 117.52095 ,\n",
       "         83.480225,  32.539616,  29.620201,  27.942596,  26.203066,\n",
       "         30.100714,  28.897131,  30.96636 ,  59.406876, 134.20212 ,\n",
       "        111.534836,  85.19771 ,  74.10149 ,  73.268265,  72.70455 ,\n",
       "         80.92139 ,  48.66213 ,  31.621553,  26.288351,  50.456566,\n",
       "         70.35388 , 133.44768 , 132.90009 , 129.08238 ,  97.93377 ,\n",
       "         31.305014,  29.213589,  22.68488 ,  21.27926 ,  32.93299 ,\n",
       "         23.513786,  24.676147,  56.985176, 136.93846 , 111.22539 ,\n",
       "         85.49407 ,  77.52433 ,  77.3966  ,  82.26473 ,  77.04501 ,\n",
       "         90.62574 ,  85.79142 ,  91.24939 ,  83.64746 ,  77.63099 ,\n",
       "         84.57924 ,  82.363335,  83.8737  ,  75.28959 ,  30.85489 ,\n",
       "         24.648243,  24.452398,  23.63586 ,  25.342348,  25.26086 ,\n",
       "         25.30064 ,  45.441956, 116.92492 , 108.56766 , 100.563644,\n",
       "         99.74088 ,  83.376495, 117.06064 ,  83.2487  ,  85.28878 ,\n",
       "         66.95922 ,  71.90467 ,  94.81018 , 165.70813 , 223.10875 ,\n",
       "        209.10461 , 167.53053 , 113.407265,  66.74029 ,  28.491165,\n",
       "         28.52336 ,  20.030779,  27.105568,  23.009525,  24.034672,\n",
       "         32.799812,  37.21436 , 121.34085 , 100.11869 ,  92.83111 ,\n",
       "         47.126053,  47.35143 ,  60.303238,  47.06947 ,  42.04803 ,\n",
       "         35.83288 ,  37.104397,  80.271484,  61.991177,  32.729965,\n",
       "         61.58177 ,  63.796623,  59.4826  ,  20.932697,  22.988018,\n",
       "         19.774319,  20.927002,  21.743807,  24.928133,  32.55807 ,\n",
       "         95.72134 ,  99.23635 ,  95.13317 ,  74.46887 , 104.64634 ,\n",
       "        117.96767 ,  95.164635,  94.96215 ,  85.72188 ,  77.402626,\n",
       "         54.744278,  62.975536, 148.1014  , 164.2217  , 128.31746 ,\n",
       "        114.66235 ,  38.809834,  21.810555,  22.507782,  20.181557,\n",
       "         20.181557,  21.631474,  25.5496  ,  61.245785, 132.8854  ,\n",
       "        127.35925 , 101.06831 ,  87.24081 ,  87.66534 ,  91.02927 ,\n",
       "         56.70947 ,  52.118458,  90.342545,  35.72891 ,  50.70772 ,\n",
       "         84.56628 , 131.661   , 131.32881 , 128.11742 ,  80.16646 ,\n",
       "         28.874197,  29.55423 ,  23.666616,  21.217455,  29.446245,\n",
       "         29.72617 ,  24.573294,  58.91361 , 136.42111 , 117.26312 ,\n",
       "         93.07952 ,  78.79673 ,  79.68182 ,  81.51764 ,  87.41281 ,\n",
       "        102.432045,  96.84969 ,  82.64007 ,  62.026386, 120.14155 ,\n",
       "        121.0096  , 112.50899 , 123.79283 ,  85.4745  ,  28.545078,\n",
       "         23.901909,  22.675423,  21.497927,  21.57439 ,  23.912048,\n",
       "         27.167866,  55.44824 , 136.035   , 112.64944 ,  92.427475,\n",
       "         71.406425,  53.86656 ,  59.9065  ,  39.836437,  27.115622,\n",
       "         22.854076,  26.16868 ,  44.271473, 102.20277 , 131.62138 ,\n",
       "        122.65445 , 117.57331 ,  74.7851  ,  42.849674,  26.276182,\n",
       "         20.810484,  20.496725,  20.872412,  21.927998,  25.399822,\n",
       "         55.214798, 122.85914 , 119.535164,  98.15716 ,  95.174065,\n",
       "         76.28693 ,  70.91089 ,  90.3114  ,  92.96222 ,  75.54419 ,\n",
       "         50.152473,  78.43627 , 107.4563  , 107.61036 , 103.91893 ,\n",
       "         90.46327 ], dtype=float32))"
      ]
     },
     "execution_count": 196,
     "metadata": {},
     "output_type": "execute_result"
    }
   ],
   "source": [
    "# Example usage 336 hours (2 weeks):\n",
    "test_xgboost_forecast(data2, test_hours=336)"
   ]
  }
 ],
 "metadata": {
  "kernelspec": {
   "display_name": "Python 3",
   "language": "python",
   "name": "python3"
  },
  "language_info": {
   "codemirror_mode": {
    "name": "ipython",
    "version": 3
   },
   "file_extension": ".py",
   "mimetype": "text/x-python",
   "name": "python",
   "nbconvert_exporter": "python",
   "pygments_lexer": "ipython3",
   "version": "3.11.9"
  }
 },
 "nbformat": 4,
 "nbformat_minor": 2
}
